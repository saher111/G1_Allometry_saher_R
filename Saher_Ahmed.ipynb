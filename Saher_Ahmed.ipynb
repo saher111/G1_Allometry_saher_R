{
  "nbformat": 4,
  "nbformat_minor": 0,
  "metadata": {
    "colab": {
      "provenance": []
    },
    "kernelspec": {
      "name": "ir",
      "display_name": "R"
    },
    "language_info": {
      "name": "R"
    }
  },
  "cells": [
    {
      "cell_type": "code",
      "source": [
        "#install.packages('skimr')\n",
        "#install.packages(\"googledrive\")\n",
        "#install.packages('here')\n",
        "#install.packages('janitor')\n",
        "#install.packages('dplyr')\n",
        "#install.packages('tidyverse')\n",
        "#install.packages('ggplot2')\n",
        "library(skimr)\n",
        "library(here)\n",
        "library(janitor)\n",
        "library(dplyr)\n",
        "library(tidyverse)\n",
        "library(\"googledrive\")\n",
        "library(lubridate)\n",
        "library(ggplot2)"
      ],
      "metadata": {
        "colab": {
          "base_uri": "https://localhost:8080/"
        },
        "id": "9s-nk7fHzcR0",
        "outputId": "dd791bf1-3f00-4d7a-a55a-de1144c77b38"
      },
      "execution_count": 89,
      "outputs": [
        {
          "output_type": "stream",
          "name": "stderr",
          "text": [
            "Installing package into ‘/usr/local/lib/R/site-library’\n",
            "(as ‘lib’ is unspecified)\n",
            "\n",
            "Installing package into ‘/usr/local/lib/R/site-library’\n",
            "(as ‘lib’ is unspecified)\n",
            "\n",
            "Installing package into ‘/usr/local/lib/R/site-library’\n",
            "(as ‘lib’ is unspecified)\n",
            "\n",
            "Installing package into ‘/usr/local/lib/R/site-library’\n",
            "(as ‘lib’ is unspecified)\n",
            "\n",
            "Installing package into ‘/usr/local/lib/R/site-library’\n",
            "(as ‘lib’ is unspecified)\n",
            "\n",
            "Installing package into ‘/usr/local/lib/R/site-library’\n",
            "(as ‘lib’ is unspecified)\n",
            "\n",
            "also installing the dependencies ‘textshaping’, ‘ragg’\n",
            "\n",
            "\n",
            "Warning message in install.packages(\"tidyverse\"):\n",
            "“installation of package ‘textshaping’ had non-zero exit status”\n",
            "Warning message in install.packages(\"tidyverse\"):\n",
            "“installation of package ‘ragg’ had non-zero exit status”\n",
            "Warning message in install.packages(\"tidyverse\"):\n",
            "“installation of package ‘tidyverse’ had non-zero exit status”\n",
            "Installing package into ‘/usr/local/lib/R/site-library’\n",
            "(as ‘lib’ is unspecified)\n",
            "\n"
          ]
        }
      ]
    },
    {
      "cell_type": "code",
      "execution_count": 137,
      "metadata": {
        "id": "YnRQidemrxEX"
      },
      "outputs": [],
      "source": [
        "df = read.csv('G1_Allometry.csv')"
      ]
    },
    {
      "cell_type": "code",
      "source": [
        "head(df)"
      ],
      "metadata": {
        "colab": {
          "base_uri": "https://localhost:8080/",
          "height": 286
        },
        "id": "OqAuSYRWtlJu",
        "outputId": "19033dfc-3308-415d-a7fa-3323f8b16521"
      },
      "execution_count": 91,
      "outputs": [
        {
          "output_type": "display_data",
          "data": {
            "text/html": [
              "<table class=\"dataframe\">\n",
              "<caption>A data.frame: 6 × 5</caption>\n",
              "<thead>\n",
              "\t<tr><th></th><th scope=col>species</th><th scope=col>diameter</th><th scope=col>height</th><th scope=col>leafarea</th><th scope=col>branchmass</th></tr>\n",
              "\t<tr><th></th><th scope=col>&lt;chr&gt;</th><th scope=col>&lt;dbl&gt;</th><th scope=col>&lt;chr&gt;</th><th scope=col>&lt;dbl&gt;</th><th scope=col>&lt;dbl&gt;</th></tr>\n",
              "</thead>\n",
              "<tbody>\n",
              "\t<tr><th scope=row>1</th><td>PSME</td><td>54.61</td><td>“27.03999951”</td><td>338.485622</td><td>410.24638</td></tr>\n",
              "\t<tr><th scope=row>2</th><td>PSME</td><td>34.80</td><td>27,4199988   </td><td>122.157864</td><td> 83.65030</td></tr>\n",
              "\t<tr><th scope=row>3</th><td>PSME</td><td>24.89</td><td>NA           </td><td>  3.958274</td><td>  3.51270</td></tr>\n",
              "\t<tr><th scope=row>4</th><td>PSME</td><td>28.70</td><td>24,95999968  </td><td> 86.350653</td><td> 73.13027</td></tr>\n",
              "\t<tr><th scope=row>5</th><td>PSME</td><td>34.80</td><td>29,98999968  </td><td> 63.350906</td><td> 62.39044</td></tr>\n",
              "\t<tr><th scope=row>6</th><td>PSME</td><td>37.85</td><td>28,06999906  </td><td> 61.372765</td><td> 53.86594</td></tr>\n",
              "</tbody>\n",
              "</table>\n"
            ],
            "text/markdown": "\nA data.frame: 6 × 5\n\n| <!--/--> | species &lt;chr&gt; | diameter &lt;dbl&gt; | height &lt;chr&gt; | leafarea &lt;dbl&gt; | branchmass &lt;dbl&gt; |\n|---|---|---|---|---|---|\n| 1 | PSME | 54.61 | “27.03999951” | 338.485622 | 410.24638 |\n| 2 | PSME | 34.80 | 27,4199988    | 122.157864 |  83.65030 |\n| 3 | PSME | 24.89 | NA            |   3.958274 |   3.51270 |\n| 4 | PSME | 28.70 | 24,95999968   |  86.350653 |  73.13027 |\n| 5 | PSME | 34.80 | 29,98999968   |  63.350906 |  62.39044 |\n| 6 | PSME | 37.85 | 28,06999906   |  61.372765 |  53.86594 |\n\n",
            "text/latex": "A data.frame: 6 × 5\n\\begin{tabular}{r|lllll}\n  & species & diameter & height & leafarea & branchmass\\\\\n  & <chr> & <dbl> & <chr> & <dbl> & <dbl>\\\\\n\\hline\n\t1 & PSME & 54.61 & “27.03999951” & 338.485622 & 410.24638\\\\\n\t2 & PSME & 34.80 & 27,4199988    & 122.157864 &  83.65030\\\\\n\t3 & PSME & 24.89 & NA            &   3.958274 &   3.51270\\\\\n\t4 & PSME & 28.70 & 24,95999968   &  86.350653 &  73.13027\\\\\n\t5 & PSME & 34.80 & 29,98999968   &  63.350906 &  62.39044\\\\\n\t6 & PSME & 37.85 & 28,06999906   &  61.372765 &  53.86594\\\\\n\\end{tabular}\n",
            "text/plain": [
              "  species diameter height        leafarea   branchmass\n",
              "1 PSME    54.61    “27.03999951” 338.485622 410.24638 \n",
              "2 PSME    34.80    27,4199988    122.157864  83.65030 \n",
              "3 PSME    24.89    NA              3.958274   3.51270 \n",
              "4 PSME    28.70    24,95999968    86.350653  73.13027 \n",
              "5 PSME    34.80    29,98999968    63.350906  62.39044 \n",
              "6 PSME    37.85    28,06999906    61.372765  53.86594 "
            ]
          },
          "metadata": {}
        }
      ]
    },
    {
      "cell_type": "code",
      "source": [
        "head(df, 10)"
      ],
      "metadata": {
        "colab": {
          "base_uri": "https://localhost:8080/",
          "height": 411
        },
        "id": "3mqCK-I9tvmG",
        "outputId": "9e18a87b-b2f2-4061-a9c6-e0b02c286955"
      },
      "execution_count": 92,
      "outputs": [
        {
          "output_type": "display_data",
          "data": {
            "text/html": [
              "<table class=\"dataframe\">\n",
              "<caption>A data.frame: 10 × 5</caption>\n",
              "<thead>\n",
              "\t<tr><th></th><th scope=col>species</th><th scope=col>diameter</th><th scope=col>height</th><th scope=col>leafarea</th><th scope=col>branchmass</th></tr>\n",
              "\t<tr><th></th><th scope=col>&lt;chr&gt;</th><th scope=col>&lt;dbl&gt;</th><th scope=col>&lt;chr&gt;</th><th scope=col>&lt;dbl&gt;</th><th scope=col>&lt;dbl&gt;</th></tr>\n",
              "</thead>\n",
              "<tbody>\n",
              "\t<tr><th scope=row>1</th><td>PSME</td><td>54.61</td><td>“27.03999951”</td><td>338.485622</td><td>410.24638</td></tr>\n",
              "\t<tr><th scope=row>2</th><td>PSME</td><td>34.80</td><td>27,4199988   </td><td>122.157864</td><td> 83.65030</td></tr>\n",
              "\t<tr><th scope=row>3</th><td>PSME</td><td>24.89</td><td>NA           </td><td>  3.958274</td><td>  3.51270</td></tr>\n",
              "\t<tr><th scope=row>4</th><td>PSME</td><td>28.70</td><td>24,95999968  </td><td> 86.350653</td><td> 73.13027</td></tr>\n",
              "\t<tr><th scope=row>5</th><td>PSME</td><td>34.80</td><td>29,98999968  </td><td> 63.350906</td><td> 62.39044</td></tr>\n",
              "\t<tr><th scope=row>6</th><td>PSME</td><td>37.85</td><td>28,06999906  </td><td> 61.372765</td><td> 53.86594</td></tr>\n",
              "\t<tr><th scope=row>7</th><td>PSME</td><td>22.61</td><td>NA           </td><td> 32.077794</td><td> 22.22474</td></tr>\n",
              "\t<tr><th scope=row>8</th><td>PSME</td><td>39.37</td><td>NA           </td><td>147.270523</td><td>119.38869</td></tr>\n",
              "\t<tr><th scope=row>9</th><td>PSME</td><td>39.88</td><td>“30.10000028”</td><td>141.787332</td><td> 95.58503</td></tr>\n",
              "\t<tr><th scope=row>10</th><td>PSME</td><td>26.16</td><td>“25.84999877”</td><td> 45.020041</td><td> 45.33095</td></tr>\n",
              "</tbody>\n",
              "</table>\n"
            ],
            "text/markdown": "\nA data.frame: 10 × 5\n\n| <!--/--> | species &lt;chr&gt; | diameter &lt;dbl&gt; | height &lt;chr&gt; | leafarea &lt;dbl&gt; | branchmass &lt;dbl&gt; |\n|---|---|---|---|---|---|\n| 1 | PSME | 54.61 | “27.03999951” | 338.485622 | 410.24638 |\n| 2 | PSME | 34.80 | 27,4199988    | 122.157864 |  83.65030 |\n| 3 | PSME | 24.89 | NA            |   3.958274 |   3.51270 |\n| 4 | PSME | 28.70 | 24,95999968   |  86.350653 |  73.13027 |\n| 5 | PSME | 34.80 | 29,98999968   |  63.350906 |  62.39044 |\n| 6 | PSME | 37.85 | 28,06999906   |  61.372765 |  53.86594 |\n| 7 | PSME | 22.61 | NA            |  32.077794 |  22.22474 |\n| 8 | PSME | 39.37 | NA            | 147.270523 | 119.38869 |\n| 9 | PSME | 39.88 | “30.10000028” | 141.787332 |  95.58503 |\n| 10 | PSME | 26.16 | “25.84999877” |  45.020041 |  45.33095 |\n\n",
            "text/latex": "A data.frame: 10 × 5\n\\begin{tabular}{r|lllll}\n  & species & diameter & height & leafarea & branchmass\\\\\n  & <chr> & <dbl> & <chr> & <dbl> & <dbl>\\\\\n\\hline\n\t1 & PSME & 54.61 & “27.03999951” & 338.485622 & 410.24638\\\\\n\t2 & PSME & 34.80 & 27,4199988    & 122.157864 &  83.65030\\\\\n\t3 & PSME & 24.89 & NA            &   3.958274 &   3.51270\\\\\n\t4 & PSME & 28.70 & 24,95999968   &  86.350653 &  73.13027\\\\\n\t5 & PSME & 34.80 & 29,98999968   &  63.350906 &  62.39044\\\\\n\t6 & PSME & 37.85 & 28,06999906   &  61.372765 &  53.86594\\\\\n\t7 & PSME & 22.61 & NA            &  32.077794 &  22.22474\\\\\n\t8 & PSME & 39.37 & NA            & 147.270523 & 119.38869\\\\\n\t9 & PSME & 39.88 & “30.10000028” & 141.787332 &  95.58503\\\\\n\t10 & PSME & 26.16 & “25.84999877” &  45.020041 &  45.33095\\\\\n\\end{tabular}\n",
            "text/plain": [
              "   species diameter height        leafarea   branchmass\n",
              "1  PSME    54.61    “27.03999951” 338.485622 410.24638 \n",
              "2  PSME    34.80    27,4199988    122.157864  83.65030 \n",
              "3  PSME    24.89    NA              3.958274   3.51270 \n",
              "4  PSME    28.70    24,95999968    86.350653  73.13027 \n",
              "5  PSME    34.80    29,98999968    63.350906  62.39044 \n",
              "6  PSME    37.85    28,06999906    61.372765  53.86594 \n",
              "7  PSME    22.61    NA             32.077794  22.22474 \n",
              "8  PSME    39.37    NA            147.270523 119.38869 \n",
              "9  PSME    39.88    “30.10000028” 141.787332  95.58503 \n",
              "10 PSME    26.16    “25.84999877”  45.020041  45.33095 "
            ]
          },
          "metadata": {}
        }
      ]
    },
    {
      "cell_type": "code",
      "source": [
        "tail(df)"
      ],
      "metadata": {
        "colab": {
          "base_uri": "https://localhost:8080/",
          "height": 286
        },
        "id": "tATZTqiltyCk",
        "outputId": "97581148-78a8-4b2a-932d-6a2604b82f11"
      },
      "execution_count": 93,
      "outputs": [
        {
          "output_type": "display_data",
          "data": {
            "text/html": [
              "<table class=\"dataframe\">\n",
              "<caption>A data.frame: 6 × 5</caption>\n",
              "<thead>\n",
              "\t<tr><th></th><th scope=col>species</th><th scope=col>diameter</th><th scope=col>height</th><th scope=col>leafarea</th><th scope=col>branchmass</th></tr>\n",
              "\t<tr><th></th><th scope=col>&lt;chr&gt;</th><th scope=col>&lt;dbl&gt;</th><th scope=col>&lt;chr&gt;</th><th scope=col>&lt;dbl&gt;</th><th scope=col>&lt;dbl&gt;</th></tr>\n",
              "</thead>\n",
              "<tbody>\n",
              "\t<tr><th scope=row>58</th><td>PIMO</td><td>73.66</td><td>44.64000038</td><td>277.494360</td><td>275.71655</td></tr>\n",
              "\t<tr><th scope=row>59</th><td>PIMO</td><td>28.19</td><td>22.59000012</td><td>131.856837</td><td> 91.76231</td></tr>\n",
              "\t<tr><th scope=row>60</th><td>PIMO</td><td>61.47</td><td>44.9899975 </td><td>121.428976</td><td>199.86339</td></tr>\n",
              "\t<tr><th scope=row>61</th><td>PIMO</td><td>51.56</td><td>40.22999936</td><td>212.443589</td><td>220.55688</td></tr>\n",
              "\t<tr><th scope=row>62</th><td>PIMO</td><td>18.29</td><td>12.97999965</td><td> 82.093031</td><td> 28.04785</td></tr>\n",
              "\t<tr><th scope=row>63</th><td>PIMO</td><td> 8.38</td><td>4,949999798</td><td>  6.551044</td><td>  4.36969</td></tr>\n",
              "</tbody>\n",
              "</table>\n"
            ],
            "text/markdown": "\nA data.frame: 6 × 5\n\n| <!--/--> | species &lt;chr&gt; | diameter &lt;dbl&gt; | height &lt;chr&gt; | leafarea &lt;dbl&gt; | branchmass &lt;dbl&gt; |\n|---|---|---|---|---|---|\n| 58 | PIMO | 73.66 | 44.64000038 | 277.494360 | 275.71655 |\n| 59 | PIMO | 28.19 | 22.59000012 | 131.856837 |  91.76231 |\n| 60 | PIMO | 61.47 | 44.9899975  | 121.428976 | 199.86339 |\n| 61 | PIMO | 51.56 | 40.22999936 | 212.443589 | 220.55688 |\n| 62 | PIMO | 18.29 | 12.97999965 |  82.093031 |  28.04785 |\n| 63 | PIMO |  8.38 | 4,949999798 |   6.551044 |   4.36969 |\n\n",
            "text/latex": "A data.frame: 6 × 5\n\\begin{tabular}{r|lllll}\n  & species & diameter & height & leafarea & branchmass\\\\\n  & <chr> & <dbl> & <chr> & <dbl> & <dbl>\\\\\n\\hline\n\t58 & PIMO & 73.66 & 44.64000038 & 277.494360 & 275.71655\\\\\n\t59 & PIMO & 28.19 & 22.59000012 & 131.856837 &  91.76231\\\\\n\t60 & PIMO & 61.47 & 44.9899975  & 121.428976 & 199.86339\\\\\n\t61 & PIMO & 51.56 & 40.22999936 & 212.443589 & 220.55688\\\\\n\t62 & PIMO & 18.29 & 12.97999965 &  82.093031 &  28.04785\\\\\n\t63 & PIMO &  8.38 & 4,949999798 &   6.551044 &   4.36969\\\\\n\\end{tabular}\n",
            "text/plain": [
              "   species diameter height      leafarea   branchmass\n",
              "58 PIMO    73.66    44.64000038 277.494360 275.71655 \n",
              "59 PIMO    28.19    22.59000012 131.856837  91.76231 \n",
              "60 PIMO    61.47    44.9899975  121.428976 199.86339 \n",
              "61 PIMO    51.56    40.22999936 212.443589 220.55688 \n",
              "62 PIMO    18.29    12.97999965  82.093031  28.04785 \n",
              "63 PIMO     8.38    4,949999798   6.551044   4.36969 "
            ]
          },
          "metadata": {}
        }
      ]
    },
    {
      "cell_type": "code",
      "source": [
        "View(df)"
      ],
      "metadata": {
        "colab": {
          "base_uri": "https://localhost:8080/",
          "height": 1000
        },
        "id": "oBkkK8Yuz0oP",
        "outputId": "a5753a22-0605-4b5e-8e59-e10fc5811276"
      },
      "execution_count": 94,
      "outputs": [
        {
          "output_type": "display_data",
          "data": {
            "text/plain": [
              "   species diameter height        leafarea   branchmass\n",
              "1  PSME    54.61    “27.03999951” 338.485622 410.24638 \n",
              "2  PSME    34.80    27,4199988    122.157864  83.65030 \n",
              "3  PSME    24.89    NA              3.958274   3.51270 \n",
              "4  PSME    28.70    24,95999968    86.350653  73.13027 \n",
              "5  PSME    34.80    29,98999968    63.350906  62.39044 \n",
              "6  PSME    37.85    28,06999906    61.372765  53.86594 \n",
              "7  PSME    22.61    NA             32.077794  22.22474 \n",
              "8  PSME    39.37    NA            147.270523 119.38869 \n",
              "9  PSME    39.88    “30.10000028” 141.787332  95.58503 \n",
              "10 PSME    26.16    “25.84999877”  45.020041  45.33095 \n",
              "11 PSME    43.69    31,82999998   145.809802  96.32311 \n",
              "12 PSME    69.85    31,35000017   349.057010 543.97314 \n",
              "13 PSME    44.45    “32.61000019” 176.029213 110.12476 \n",
              "14 PSME    56.64    “31.69999766” 319.507115 260.48752 \n",
              "15 PSME    54.61    30,17999806   234.368784 281.12312 \n",
              "16 PSME     5.33    4,949999782     4.851567   2.67065 \n",
              "17 PSME     6.10    “5.26000011”    7.595163   3.57145 \n",
              "18 PSME     7.37    5,580000195    11.502851   4.58916 \n",
              "19 PSME     8.33    “6.470000131”  25.380647   8.63615 \n",
              "20 PSME    13.51    NA             65.698749  34.93701 \n",
              "21 PSME    51.31    “33.30000015” 160.839174 165.05529 \n",
              "22 PSME    22.35    “19.38999953”  31.780702  35.64921 \n",
              "23 PIPO    69.60    “39.36999864” 189.733007 452.42455 \n",
              "24 PIPO    58.42    35,8099995    253.308265 595.64015 \n",
              "25 PIPO    33.27    “20.80000143”  91.538428 160.44416 \n",
              "26 PIPO    44.20    “29.11000066”  90.453658 149.72883 \n",
              "27 PIPO    30.48    22,39999889    99.736790  44.13532 \n",
              "28 PIPO    27.43    27,69000074    34.464685  22.98360 \n",
              "29 PIPO    43.18    “35.58000047”  68.150309 106.40410 \n",
              "30 PIPO    38.86    NA             46.326060  58.24071 \n",
              "⋮  ⋮       ⋮        ⋮             ⋮          ⋮         \n",
              "34 PIPO    24.89    25.11000022    21.649603   16.77015\n",
              "35 PIPO    45.97    30.3899993     66.633675   87.36908\n",
              "36 PIPO    35.05    28.39999855    54.267994   51.09006\n",
              "37 PIPO    23.88    23.38000056    19.844680   13.98343\n",
              "38 PIPO    60.20    31.72999928   131.727303  408.33826\n",
              "39 PIPO    12.45    “7.360000515”  22.365837   16.98648\n",
              "40 PIPO     4.83    3.569999832     2.636336    1.77810\n",
              "41 PIPO    70.61    31.92999734   411.160376 1182.42222\n",
              "42 PIPO    11.43    6.919999749    15.476022    9.25151\n",
              "43 PIPO    11.94    5.849999418    14.493428    7.55701\n",
              "44 PIPO    60.20    35.13999818   169.053644  658.23971\n",
              "45 PIMO    60.71    39.84000257   139.651156  139.25590\n",
              "46 PIMO    70.61    40.65999885   376.308256  541.30618\n",
              "47 PIMO    57.66    38.88999786   417.209436  310.56688\n",
              "48 PIMO    43.13    36.23999975   103.672633  100.40178\n",
              "49 PIMO    18.29    23.1300004     33.713580   14.48567\n",
              "50 PIMO    43.43    37.5899983    116.154916  108.44781\n",
              "51 PIMO    18.54    21.28999927    44.934469   16.54457\n",
              "52 PIMO    12.95    “13.43999951”  18.855867    8.71068\n",
              "53 PIMO    37.85    NA            154.078625   72.02907\n",
              "54 PIMO    26.92    29.04999924    70.602797   35.87333\n",
              "55 PIMO    38.61    35.51999923   169.163842  114.06445\n",
              "56 PIMO     6.48    5.420000304     7.650902    3.50621\n",
              "57 PIMO    31.75    34.55999883    93.072006   44.72725\n",
              "58 PIMO    73.66    44.64000038   277.494360  275.71655\n",
              "59 PIMO    28.19    22.59000012   131.856837   91.76231\n",
              "60 PIMO    61.47    44.9899975    121.428976  199.86339\n",
              "61 PIMO    51.56    40.22999936   212.443589  220.55688\n",
              "62 PIMO    18.29    12.97999965    82.093031   28.04785\n",
              "63 PIMO     8.38    4,949999798     6.551044    4.36969"
            ],
            "text/html": [
              "<table class=\"dataframe\">\n",
              "<caption>A data.frame: 63 × 5</caption>\n",
              "<thead>\n",
              "\t<tr><th scope=col>species</th><th scope=col>diameter</th><th scope=col>height</th><th scope=col>leafarea</th><th scope=col>branchmass</th></tr>\n",
              "\t<tr><th scope=col>&lt;chr&gt;</th><th scope=col>&lt;dbl&gt;</th><th scope=col>&lt;chr&gt;</th><th scope=col>&lt;dbl&gt;</th><th scope=col>&lt;dbl&gt;</th></tr>\n",
              "</thead>\n",
              "<tbody>\n",
              "\t<tr><td>PSME</td><td>54.61</td><td>“27.03999951”</td><td>338.485622</td><td>410.24638</td></tr>\n",
              "\t<tr><td>PSME</td><td>34.80</td><td>27,4199988   </td><td>122.157864</td><td> 83.65030</td></tr>\n",
              "\t<tr><td>PSME</td><td>24.89</td><td>NA           </td><td>  3.958274</td><td>  3.51270</td></tr>\n",
              "\t<tr><td>PSME</td><td>28.70</td><td>24,95999968  </td><td> 86.350653</td><td> 73.13027</td></tr>\n",
              "\t<tr><td>PSME</td><td>34.80</td><td>29,98999968  </td><td> 63.350906</td><td> 62.39044</td></tr>\n",
              "\t<tr><td>PSME</td><td>37.85</td><td>28,06999906  </td><td> 61.372765</td><td> 53.86594</td></tr>\n",
              "\t<tr><td>PSME</td><td>22.61</td><td>NA           </td><td> 32.077794</td><td> 22.22474</td></tr>\n",
              "\t<tr><td>PSME</td><td>39.37</td><td>NA           </td><td>147.270523</td><td>119.38869</td></tr>\n",
              "\t<tr><td>PSME</td><td>39.88</td><td>“30.10000028”</td><td>141.787332</td><td> 95.58503</td></tr>\n",
              "\t<tr><td>PSME</td><td>26.16</td><td>“25.84999877”</td><td> 45.020041</td><td> 45.33095</td></tr>\n",
              "\t<tr><td>PSME</td><td>43.69</td><td>31,82999998  </td><td>145.809802</td><td> 96.32311</td></tr>\n",
              "\t<tr><td>PSME</td><td>69.85</td><td>31,35000017  </td><td>349.057010</td><td>543.97314</td></tr>\n",
              "\t<tr><td>PSME</td><td>44.45</td><td>“32.61000019”</td><td>176.029213</td><td>110.12476</td></tr>\n",
              "\t<tr><td>PSME</td><td>56.64</td><td>“31.69999766”</td><td>319.507115</td><td>260.48752</td></tr>\n",
              "\t<tr><td>PSME</td><td>54.61</td><td>30,17999806  </td><td>234.368784</td><td>281.12312</td></tr>\n",
              "\t<tr><td>PSME</td><td> 5.33</td><td>4,949999782  </td><td>  4.851567</td><td>  2.67065</td></tr>\n",
              "\t<tr><td>PSME</td><td> 6.10</td><td>“5.26000011” </td><td>  7.595163</td><td>  3.57145</td></tr>\n",
              "\t<tr><td>PSME</td><td> 7.37</td><td>5,580000195  </td><td> 11.502851</td><td>  4.58916</td></tr>\n",
              "\t<tr><td>PSME</td><td> 8.33</td><td>“6.470000131”</td><td> 25.380647</td><td>  8.63615</td></tr>\n",
              "\t<tr><td>PSME</td><td>13.51</td><td>NA           </td><td> 65.698749</td><td> 34.93701</td></tr>\n",
              "\t<tr><td>PSME</td><td>51.31</td><td>“33.30000015”</td><td>160.839174</td><td>165.05529</td></tr>\n",
              "\t<tr><td>PSME</td><td>22.35</td><td>“19.38999953”</td><td> 31.780702</td><td> 35.64921</td></tr>\n",
              "\t<tr><td>PIPO</td><td>69.60</td><td>“39.36999864”</td><td>189.733007</td><td>452.42455</td></tr>\n",
              "\t<tr><td>PIPO</td><td>58.42</td><td>35,8099995   </td><td>253.308265</td><td>595.64015</td></tr>\n",
              "\t<tr><td>PIPO</td><td>33.27</td><td>“20.80000143”</td><td> 91.538428</td><td>160.44416</td></tr>\n",
              "\t<tr><td>PIPO</td><td>44.20</td><td>“29.11000066”</td><td> 90.453658</td><td>149.72883</td></tr>\n",
              "\t<tr><td>PIPO</td><td>30.48</td><td>22,39999889  </td><td> 99.736790</td><td> 44.13532</td></tr>\n",
              "\t<tr><td>PIPO</td><td>27.43</td><td>27,69000074  </td><td> 34.464685</td><td> 22.98360</td></tr>\n",
              "\t<tr><td>PIPO</td><td>43.18</td><td>“35.58000047”</td><td> 68.150309</td><td>106.40410</td></tr>\n",
              "\t<tr><td>PIPO</td><td>38.86</td><td>NA           </td><td> 46.326060</td><td> 58.24071</td></tr>\n",
              "\t<tr><td>⋮</td><td>⋮</td><td>⋮</td><td>⋮</td><td>⋮</td></tr>\n",
              "\t<tr><td>PIPO</td><td>24.89</td><td>25.11000022  </td><td> 21.649603</td><td>  16.77015</td></tr>\n",
              "\t<tr><td>PIPO</td><td>45.97</td><td>30.3899993   </td><td> 66.633675</td><td>  87.36908</td></tr>\n",
              "\t<tr><td>PIPO</td><td>35.05</td><td>28.39999855  </td><td> 54.267994</td><td>  51.09006</td></tr>\n",
              "\t<tr><td>PIPO</td><td>23.88</td><td>23.38000056  </td><td> 19.844680</td><td>  13.98343</td></tr>\n",
              "\t<tr><td>PIPO</td><td>60.20</td><td>31.72999928  </td><td>131.727303</td><td> 408.33826</td></tr>\n",
              "\t<tr><td>PIPO</td><td>12.45</td><td>“7.360000515”</td><td> 22.365837</td><td>  16.98648</td></tr>\n",
              "\t<tr><td>PIPO</td><td> 4.83</td><td>3.569999832  </td><td>  2.636336</td><td>   1.77810</td></tr>\n",
              "\t<tr><td>PIPO</td><td>70.61</td><td>31.92999734  </td><td>411.160376</td><td>1182.42222</td></tr>\n",
              "\t<tr><td>PIPO</td><td>11.43</td><td>6.919999749  </td><td> 15.476022</td><td>   9.25151</td></tr>\n",
              "\t<tr><td>PIPO</td><td>11.94</td><td>5.849999418  </td><td> 14.493428</td><td>   7.55701</td></tr>\n",
              "\t<tr><td>PIPO</td><td>60.20</td><td>35.13999818  </td><td>169.053644</td><td> 658.23971</td></tr>\n",
              "\t<tr><td>PIMO</td><td>60.71</td><td>39.84000257  </td><td>139.651156</td><td> 139.25590</td></tr>\n",
              "\t<tr><td>PIMO</td><td>70.61</td><td>40.65999885  </td><td>376.308256</td><td> 541.30618</td></tr>\n",
              "\t<tr><td>PIMO</td><td>57.66</td><td>38.88999786  </td><td>417.209436</td><td> 310.56688</td></tr>\n",
              "\t<tr><td>PIMO</td><td>43.13</td><td>36.23999975  </td><td>103.672633</td><td> 100.40178</td></tr>\n",
              "\t<tr><td>PIMO</td><td>18.29</td><td>23.1300004   </td><td> 33.713580</td><td>  14.48567</td></tr>\n",
              "\t<tr><td>PIMO</td><td>43.43</td><td>37.5899983   </td><td>116.154916</td><td> 108.44781</td></tr>\n",
              "\t<tr><td>PIMO</td><td>18.54</td><td>21.28999927  </td><td> 44.934469</td><td>  16.54457</td></tr>\n",
              "\t<tr><td>PIMO</td><td>12.95</td><td>“13.43999951”</td><td> 18.855867</td><td>   8.71068</td></tr>\n",
              "\t<tr><td>PIMO</td><td>37.85</td><td>NA           </td><td>154.078625</td><td>  72.02907</td></tr>\n",
              "\t<tr><td>PIMO</td><td>26.92</td><td>29.04999924  </td><td> 70.602797</td><td>  35.87333</td></tr>\n",
              "\t<tr><td>PIMO</td><td>38.61</td><td>35.51999923  </td><td>169.163842</td><td> 114.06445</td></tr>\n",
              "\t<tr><td>PIMO</td><td> 6.48</td><td>5.420000304  </td><td>  7.650902</td><td>   3.50621</td></tr>\n",
              "\t<tr><td>PIMO</td><td>31.75</td><td>34.55999883  </td><td> 93.072006</td><td>  44.72725</td></tr>\n",
              "\t<tr><td>PIMO</td><td>73.66</td><td>44.64000038  </td><td>277.494360</td><td> 275.71655</td></tr>\n",
              "\t<tr><td>PIMO</td><td>28.19</td><td>22.59000012  </td><td>131.856837</td><td>  91.76231</td></tr>\n",
              "\t<tr><td>PIMO</td><td>61.47</td><td>44.9899975   </td><td>121.428976</td><td> 199.86339</td></tr>\n",
              "\t<tr><td>PIMO</td><td>51.56</td><td>40.22999936  </td><td>212.443589</td><td> 220.55688</td></tr>\n",
              "\t<tr><td>PIMO</td><td>18.29</td><td>12.97999965  </td><td> 82.093031</td><td>  28.04785</td></tr>\n",
              "\t<tr><td>PIMO</td><td> 8.38</td><td>4,949999798  </td><td>  6.551044</td><td>   4.36969</td></tr>\n",
              "</tbody>\n",
              "</table>\n"
            ],
            "text/markdown": "\nA data.frame: 63 × 5\n\n| species &lt;chr&gt; | diameter &lt;dbl&gt; | height &lt;chr&gt; | leafarea &lt;dbl&gt; | branchmass &lt;dbl&gt; |\n|---|---|---|---|---|\n| PSME | 54.61 | “27.03999951” | 338.485622 | 410.24638 |\n| PSME | 34.80 | 27,4199988    | 122.157864 |  83.65030 |\n| PSME | 24.89 | NA            |   3.958274 |   3.51270 |\n| PSME | 28.70 | 24,95999968   |  86.350653 |  73.13027 |\n| PSME | 34.80 | 29,98999968   |  63.350906 |  62.39044 |\n| PSME | 37.85 | 28,06999906   |  61.372765 |  53.86594 |\n| PSME | 22.61 | NA            |  32.077794 |  22.22474 |\n| PSME | 39.37 | NA            | 147.270523 | 119.38869 |\n| PSME | 39.88 | “30.10000028” | 141.787332 |  95.58503 |\n| PSME | 26.16 | “25.84999877” |  45.020041 |  45.33095 |\n| PSME | 43.69 | 31,82999998   | 145.809802 |  96.32311 |\n| PSME | 69.85 | 31,35000017   | 349.057010 | 543.97314 |\n| PSME | 44.45 | “32.61000019” | 176.029213 | 110.12476 |\n| PSME | 56.64 | “31.69999766” | 319.507115 | 260.48752 |\n| PSME | 54.61 | 30,17999806   | 234.368784 | 281.12312 |\n| PSME |  5.33 | 4,949999782   |   4.851567 |   2.67065 |\n| PSME |  6.10 | “5.26000011”  |   7.595163 |   3.57145 |\n| PSME |  7.37 | 5,580000195   |  11.502851 |   4.58916 |\n| PSME |  8.33 | “6.470000131” |  25.380647 |   8.63615 |\n| PSME | 13.51 | NA            |  65.698749 |  34.93701 |\n| PSME | 51.31 | “33.30000015” | 160.839174 | 165.05529 |\n| PSME | 22.35 | “19.38999953” |  31.780702 |  35.64921 |\n| PIPO | 69.60 | “39.36999864” | 189.733007 | 452.42455 |\n| PIPO | 58.42 | 35,8099995    | 253.308265 | 595.64015 |\n| PIPO | 33.27 | “20.80000143” |  91.538428 | 160.44416 |\n| PIPO | 44.20 | “29.11000066” |  90.453658 | 149.72883 |\n| PIPO | 30.48 | 22,39999889   |  99.736790 |  44.13532 |\n| PIPO | 27.43 | 27,69000074   |  34.464685 |  22.98360 |\n| PIPO | 43.18 | “35.58000047” |  68.150309 | 106.40410 |\n| PIPO | 38.86 | NA            |  46.326060 |  58.24071 |\n| ⋮ | ⋮ | ⋮ | ⋮ | ⋮ |\n| PIPO | 24.89 | 25.11000022   |  21.649603 |   16.77015 |\n| PIPO | 45.97 | 30.3899993    |  66.633675 |   87.36908 |\n| PIPO | 35.05 | 28.39999855   |  54.267994 |   51.09006 |\n| PIPO | 23.88 | 23.38000056   |  19.844680 |   13.98343 |\n| PIPO | 60.20 | 31.72999928   | 131.727303 |  408.33826 |\n| PIPO | 12.45 | “7.360000515” |  22.365837 |   16.98648 |\n| PIPO |  4.83 | 3.569999832   |   2.636336 |    1.77810 |\n| PIPO | 70.61 | 31.92999734   | 411.160376 | 1182.42222 |\n| PIPO | 11.43 | 6.919999749   |  15.476022 |    9.25151 |\n| PIPO | 11.94 | 5.849999418   |  14.493428 |    7.55701 |\n| PIPO | 60.20 | 35.13999818   | 169.053644 |  658.23971 |\n| PIMO | 60.71 | 39.84000257   | 139.651156 |  139.25590 |\n| PIMO | 70.61 | 40.65999885   | 376.308256 |  541.30618 |\n| PIMO | 57.66 | 38.88999786   | 417.209436 |  310.56688 |\n| PIMO | 43.13 | 36.23999975   | 103.672633 |  100.40178 |\n| PIMO | 18.29 | 23.1300004    |  33.713580 |   14.48567 |\n| PIMO | 43.43 | 37.5899983    | 116.154916 |  108.44781 |\n| PIMO | 18.54 | 21.28999927   |  44.934469 |   16.54457 |\n| PIMO | 12.95 | “13.43999951” |  18.855867 |    8.71068 |\n| PIMO | 37.85 | NA            | 154.078625 |   72.02907 |\n| PIMO | 26.92 | 29.04999924   |  70.602797 |   35.87333 |\n| PIMO | 38.61 | 35.51999923   | 169.163842 |  114.06445 |\n| PIMO |  6.48 | 5.420000304   |   7.650902 |    3.50621 |\n| PIMO | 31.75 | 34.55999883   |  93.072006 |   44.72725 |\n| PIMO | 73.66 | 44.64000038   | 277.494360 |  275.71655 |\n| PIMO | 28.19 | 22.59000012   | 131.856837 |   91.76231 |\n| PIMO | 61.47 | 44.9899975    | 121.428976 |  199.86339 |\n| PIMO | 51.56 | 40.22999936   | 212.443589 |  220.55688 |\n| PIMO | 18.29 | 12.97999965   |  82.093031 |   28.04785 |\n| PIMO |  8.38 | 4,949999798   |   6.551044 |    4.36969 |\n\n",
            "text/latex": "A data.frame: 63 × 5\n\\begin{tabular}{lllll}\n species & diameter & height & leafarea & branchmass\\\\\n <chr> & <dbl> & <chr> & <dbl> & <dbl>\\\\\n\\hline\n\t PSME & 54.61 & “27.03999951” & 338.485622 & 410.24638\\\\\n\t PSME & 34.80 & 27,4199988    & 122.157864 &  83.65030\\\\\n\t PSME & 24.89 & NA            &   3.958274 &   3.51270\\\\\n\t PSME & 28.70 & 24,95999968   &  86.350653 &  73.13027\\\\\n\t PSME & 34.80 & 29,98999968   &  63.350906 &  62.39044\\\\\n\t PSME & 37.85 & 28,06999906   &  61.372765 &  53.86594\\\\\n\t PSME & 22.61 & NA            &  32.077794 &  22.22474\\\\\n\t PSME & 39.37 & NA            & 147.270523 & 119.38869\\\\\n\t PSME & 39.88 & “30.10000028” & 141.787332 &  95.58503\\\\\n\t PSME & 26.16 & “25.84999877” &  45.020041 &  45.33095\\\\\n\t PSME & 43.69 & 31,82999998   & 145.809802 &  96.32311\\\\\n\t PSME & 69.85 & 31,35000017   & 349.057010 & 543.97314\\\\\n\t PSME & 44.45 & “32.61000019” & 176.029213 & 110.12476\\\\\n\t PSME & 56.64 & “31.69999766” & 319.507115 & 260.48752\\\\\n\t PSME & 54.61 & 30,17999806   & 234.368784 & 281.12312\\\\\n\t PSME &  5.33 & 4,949999782   &   4.851567 &   2.67065\\\\\n\t PSME &  6.10 & “5.26000011”  &   7.595163 &   3.57145\\\\\n\t PSME &  7.37 & 5,580000195   &  11.502851 &   4.58916\\\\\n\t PSME &  8.33 & “6.470000131” &  25.380647 &   8.63615\\\\\n\t PSME & 13.51 & NA            &  65.698749 &  34.93701\\\\\n\t PSME & 51.31 & “33.30000015” & 160.839174 & 165.05529\\\\\n\t PSME & 22.35 & “19.38999953” &  31.780702 &  35.64921\\\\\n\t PIPO & 69.60 & “39.36999864” & 189.733007 & 452.42455\\\\\n\t PIPO & 58.42 & 35,8099995    & 253.308265 & 595.64015\\\\\n\t PIPO & 33.27 & “20.80000143” &  91.538428 & 160.44416\\\\\n\t PIPO & 44.20 & “29.11000066” &  90.453658 & 149.72883\\\\\n\t PIPO & 30.48 & 22,39999889   &  99.736790 &  44.13532\\\\\n\t PIPO & 27.43 & 27,69000074   &  34.464685 &  22.98360\\\\\n\t PIPO & 43.18 & “35.58000047” &  68.150309 & 106.40410\\\\\n\t PIPO & 38.86 & NA            &  46.326060 &  58.24071\\\\\n\t ⋮ & ⋮ & ⋮ & ⋮ & ⋮\\\\\n\t PIPO & 24.89 & 25.11000022   &  21.649603 &   16.77015\\\\\n\t PIPO & 45.97 & 30.3899993    &  66.633675 &   87.36908\\\\\n\t PIPO & 35.05 & 28.39999855   &  54.267994 &   51.09006\\\\\n\t PIPO & 23.88 & 23.38000056   &  19.844680 &   13.98343\\\\\n\t PIPO & 60.20 & 31.72999928   & 131.727303 &  408.33826\\\\\n\t PIPO & 12.45 & “7.360000515” &  22.365837 &   16.98648\\\\\n\t PIPO &  4.83 & 3.569999832   &   2.636336 &    1.77810\\\\\n\t PIPO & 70.61 & 31.92999734   & 411.160376 & 1182.42222\\\\\n\t PIPO & 11.43 & 6.919999749   &  15.476022 &    9.25151\\\\\n\t PIPO & 11.94 & 5.849999418   &  14.493428 &    7.55701\\\\\n\t PIPO & 60.20 & 35.13999818   & 169.053644 &  658.23971\\\\\n\t PIMO & 60.71 & 39.84000257   & 139.651156 &  139.25590\\\\\n\t PIMO & 70.61 & 40.65999885   & 376.308256 &  541.30618\\\\\n\t PIMO & 57.66 & 38.88999786   & 417.209436 &  310.56688\\\\\n\t PIMO & 43.13 & 36.23999975   & 103.672633 &  100.40178\\\\\n\t PIMO & 18.29 & 23.1300004    &  33.713580 &   14.48567\\\\\n\t PIMO & 43.43 & 37.5899983    & 116.154916 &  108.44781\\\\\n\t PIMO & 18.54 & 21.28999927   &  44.934469 &   16.54457\\\\\n\t PIMO & 12.95 & “13.43999951” &  18.855867 &    8.71068\\\\\n\t PIMO & 37.85 & NA            & 154.078625 &   72.02907\\\\\n\t PIMO & 26.92 & 29.04999924   &  70.602797 &   35.87333\\\\\n\t PIMO & 38.61 & 35.51999923   & 169.163842 &  114.06445\\\\\n\t PIMO &  6.48 & 5.420000304   &   7.650902 &    3.50621\\\\\n\t PIMO & 31.75 & 34.55999883   &  93.072006 &   44.72725\\\\\n\t PIMO & 73.66 & 44.64000038   & 277.494360 &  275.71655\\\\\n\t PIMO & 28.19 & 22.59000012   & 131.856837 &   91.76231\\\\\n\t PIMO & 61.47 & 44.9899975    & 121.428976 &  199.86339\\\\\n\t PIMO & 51.56 & 40.22999936   & 212.443589 &  220.55688\\\\\n\t PIMO & 18.29 & 12.97999965   &  82.093031 &   28.04785\\\\\n\t PIMO &  8.38 & 4,949999798   &   6.551044 &    4.36969\\\\\n\\end{tabular}\n"
          },
          "metadata": {}
        }
      ]
    },
    {
      "cell_type": "code",
      "source": [
        "colnames(df)"
      ],
      "metadata": {
        "colab": {
          "base_uri": "https://localhost:8080/",
          "height": 34
        },
        "id": "7O4Qp05-z0go",
        "outputId": "c4da2267-79a3-44db-a3f3-a8393086c6fd"
      },
      "execution_count": 149,
      "outputs": [
        {
          "output_type": "display_data",
          "data": {
            "text/html": [
              "<style>\n",
              ".list-inline {list-style: none; margin:0; padding: 0}\n",
              ".list-inline>li {display: inline-block}\n",
              ".list-inline>li:not(:last-child)::after {content: \"\\00b7\"; padding: 0 .5ex}\n",
              "</style>\n",
              "<ol class=list-inline><li>'species'</li><li>'diameter'</li><li>'height'</li><li>'leafarea'</li><li>'branchmass'</li></ol>\n"
            ],
            "text/markdown": "1. 'species'\n2. 'diameter'\n3. 'height'\n4. 'leafarea'\n5. 'branchmass'\n\n\n",
            "text/latex": "\\begin{enumerate*}\n\\item 'species'\n\\item 'diameter'\n\\item 'height'\n\\item 'leafarea'\n\\item 'branchmass'\n\\end{enumerate*}\n",
            "text/plain": [
              "[1] \"species\"    \"diameter\"   \"height\"     \"leafarea\"   \"branchmass\""
            ]
          },
          "metadata": {}
        }
      ]
    },
    {
      "cell_type": "code",
      "source": [
        "ncol(df)"
      ],
      "metadata": {
        "colab": {
          "base_uri": "https://localhost:8080/",
          "height": 34
        },
        "id": "GH_Q658NGeAW",
        "outputId": "ccb379db-3e83-4c28-a804-baed241650ef"
      },
      "execution_count": 150,
      "outputs": [
        {
          "output_type": "display_data",
          "data": {
            "text/html": [
              "5"
            ],
            "text/markdown": "5",
            "text/latex": "5",
            "text/plain": [
              "[1] 5"
            ]
          },
          "metadata": {}
        }
      ]
    },
    {
      "cell_type": "code",
      "source": [
        "nrow(df)"
      ],
      "metadata": {
        "colab": {
          "base_uri": "https://localhost:8080/",
          "height": 34
        },
        "id": "GrWoDZJ2Gd87",
        "outputId": "3fdd71b3-8984-4d89-f0f9-f9319eee84ea"
      },
      "execution_count": 151,
      "outputs": [
        {
          "output_type": "display_data",
          "data": {
            "text/html": [
              "63"
            ],
            "text/markdown": "63",
            "text/latex": "63",
            "text/plain": [
              "[1] 63"
            ]
          },
          "metadata": {}
        }
      ]
    },
    {
      "cell_type": "code",
      "source": [
        "str(df)"
      ],
      "metadata": {
        "colab": {
          "base_uri": "https://localhost:8080/"
        },
        "id": "rAAfBMbJtzaE",
        "outputId": "cd68c78a-bfb1-40a8-948c-0f734f0eb04e"
      },
      "execution_count": 96,
      "outputs": [
        {
          "output_type": "stream",
          "name": "stdout",
          "text": [
            "'data.frame':\t63 obs. of  5 variables:\n",
            " $ species   : chr  \"PSME\" \"PSME\" \"PSME\" \"PSME\" ...\n",
            " $ diameter  : num  54.6 34.8 24.9 28.7 34.8 ...\n",
            " $ height    : chr  \"“27.03999951”\" \"27,4199988\" NA \"24,95999968\" ...\n",
            " $ leafarea  : num  338.49 122.16 3.96 86.35 63.35 ...\n",
            " $ branchmass: num  410.25 83.65 3.51 73.13 62.39 ...\n"
          ]
        }
      ]
    },
    {
      "cell_type": "code",
      "source": [
        "glimpse(df)"
      ],
      "metadata": {
        "colab": {
          "base_uri": "https://localhost:8080/"
        },
        "id": "z7RmAhbFzlUX",
        "outputId": "543fd046-2929-45d6-c285-0af75d1367c8"
      },
      "execution_count": 97,
      "outputs": [
        {
          "output_type": "stream",
          "name": "stdout",
          "text": [
            "Rows: 63\n",
            "Columns: 5\n",
            "$ species    \u001b[3m\u001b[90m<chr>\u001b[39m\u001b[23m \"PSME\", \"PSME\", \"PSME\", \"PSME\", \"PSME\", \"PSME\", \"PSME\", \"PS…\n",
            "$ diameter   \u001b[3m\u001b[90m<dbl>\u001b[39m\u001b[23m 54.61, 34.80, 24.89, 28.70, 34.80, 37.85, 22.61, 39.37, 39.…\n",
            "$ height     \u001b[3m\u001b[90m<chr>\u001b[39m\u001b[23m \"“27.03999951”\", \"27,4199988\", NA, \"24,95999968\", \"29,98999…\n",
            "$ leafarea   \u001b[3m\u001b[90m<dbl>\u001b[39m\u001b[23m 338.485622, 122.157864, 3.958274, 86.350653, 63.350906, 61.…\n",
            "$ branchmass \u001b[3m\u001b[90m<dbl>\u001b[39m\u001b[23m 410.24638, 83.65030, 3.51270, 73.13027, 62.39044, 53.86594,…\n"
          ]
        }
      ]
    },
    {
      "cell_type": "code",
      "source": [
        "dim(df)"
      ],
      "metadata": {
        "colab": {
          "base_uri": "https://localhost:8080/",
          "height": 34
        },
        "id": "lxQMxc91t1Ne",
        "outputId": "fc16d354-4aa7-492d-8496-064904b501b8"
      },
      "execution_count": 98,
      "outputs": [
        {
          "output_type": "display_data",
          "data": {
            "text/html": [
              "<style>\n",
              ".list-inline {list-style: none; margin:0; padding: 0}\n",
              ".list-inline>li {display: inline-block}\n",
              ".list-inline>li:not(:last-child)::after {content: \"\\00b7\"; padding: 0 .5ex}\n",
              "</style>\n",
              "<ol class=list-inline><li>63</li><li>5</li></ol>\n"
            ],
            "text/markdown": "1. 63\n2. 5\n\n\n",
            "text/latex": "\\begin{enumerate*}\n\\item 63\n\\item 5\n\\end{enumerate*}\n",
            "text/plain": [
              "[1] 63  5"
            ]
          },
          "metadata": {}
        }
      ]
    },
    {
      "cell_type": "code",
      "source": [
        "class(df)"
      ],
      "metadata": {
        "colab": {
          "base_uri": "https://localhost:8080/",
          "height": 34
        },
        "id": "wlNLRqu5t2L-",
        "outputId": "cf45c1cd-8bac-44c5-ebe2-d09261548dc5"
      },
      "execution_count": 99,
      "outputs": [
        {
          "output_type": "display_data",
          "data": {
            "text/html": [
              "'data.frame'"
            ],
            "text/markdown": "'data.frame'",
            "text/latex": "'data.frame'",
            "text/plain": [
              "[1] \"data.frame\""
            ]
          },
          "metadata": {}
        }
      ]
    },
    {
      "cell_type": "code",
      "source": [
        "summary(df)"
      ],
      "metadata": {
        "colab": {
          "base_uri": "https://localhost:8080/",
          "height": 270
        },
        "id": "qd13rS-5t3hu",
        "outputId": "eb279d47-b332-474e-b1d4-1a88df9fc275"
      },
      "execution_count": 100,
      "outputs": [
        {
          "output_type": "display_data",
          "data": {
            "text/plain": [
              "   species             diameter        height             leafarea      \n",
              " Length:63          Min.   : 4.83   Length:63          Min.   :  2.636  \n",
              " Class :character   1st Qu.:21.59   Class :character   1st Qu.: 28.581  \n",
              " Mode  :character   Median :34.80   Mode  :character   Median : 86.351  \n",
              "                    Mean   :35.56                      Mean   :113.425  \n",
              "                    3rd Qu.:51.44                      3rd Qu.:157.459  \n",
              "                    Max.   :73.66                      Max.   :417.209  \n",
              "   branchmass      \n",
              " Min.   :   1.778  \n",
              " 1st Qu.:  16.878  \n",
              " Median :  72.029  \n",
              " Mean   : 145.011  \n",
              " 3rd Qu.: 162.750  \n",
              " Max.   :1182.422  "
            ]
          },
          "metadata": {}
        }
      ]
    },
    {
      "cell_type": "code",
      "source": [
        "getwd()"
      ],
      "metadata": {
        "colab": {
          "base_uri": "https://localhost:8080/",
          "height": 34
        },
        "id": "I8UUbsa6zqpb",
        "outputId": "dd30c036-4264-465e-cf94-814ca2e4a5ca"
      },
      "execution_count": 101,
      "outputs": [
        {
          "output_type": "display_data",
          "data": {
            "text/html": [
              "'/content'"
            ],
            "text/markdown": "'/content'",
            "text/latex": "'/content'",
            "text/plain": [
              "[1] \"/content\""
            ]
          },
          "metadata": {}
        }
      ]
    },
    {
      "cell_type": "markdown",
      "source": [
        "# Data Cleaning"
      ],
      "metadata": {
        "id": "6xbQQC8d0hcQ"
      }
    },
    {
      "cell_type": "markdown",
      "source": [
        "# Check duplicates"
      ],
      "metadata": {
        "id": "dUbwM4L0z9G8"
      }
    },
    {
      "cell_type": "code",
      "source": [
        "any(duplicated(df))"
      ],
      "metadata": {
        "colab": {
          "base_uri": "https://localhost:8080/",
          "height": 34
        },
        "id": "-hhWkm2uzqsA",
        "outputId": "54d094fe-1b4b-42d6-fc98-6bae332e4239"
      },
      "execution_count": 102,
      "outputs": [
        {
          "output_type": "display_data",
          "data": {
            "text/html": [
              "FALSE"
            ],
            "text/markdown": "FALSE",
            "text/latex": "FALSE",
            "text/plain": [
              "[1] FALSE"
            ]
          },
          "metadata": {}
        }
      ]
    },
    {
      "cell_type": "markdown",
      "source": [
        "## Missing values"
      ],
      "metadata": {
        "id": "uMWAWzn90kgm"
      }
    },
    {
      "cell_type": "code",
      "source": [
        "head(df)"
      ],
      "metadata": {
        "colab": {
          "base_uri": "https://localhost:8080/",
          "height": 286
        },
        "id": "qe8ATsnGzqum",
        "outputId": "062b26e7-7bb5-4772-9245-2ead1f45a7d9"
      },
      "execution_count": 103,
      "outputs": [
        {
          "output_type": "display_data",
          "data": {
            "text/html": [
              "<table class=\"dataframe\">\n",
              "<caption>A data.frame: 6 × 5</caption>\n",
              "<thead>\n",
              "\t<tr><th></th><th scope=col>species</th><th scope=col>diameter</th><th scope=col>height</th><th scope=col>leafarea</th><th scope=col>branchmass</th></tr>\n",
              "\t<tr><th></th><th scope=col>&lt;chr&gt;</th><th scope=col>&lt;dbl&gt;</th><th scope=col>&lt;chr&gt;</th><th scope=col>&lt;dbl&gt;</th><th scope=col>&lt;dbl&gt;</th></tr>\n",
              "</thead>\n",
              "<tbody>\n",
              "\t<tr><th scope=row>1</th><td>PSME</td><td>54.61</td><td>“27.03999951”</td><td>338.485622</td><td>410.24638</td></tr>\n",
              "\t<tr><th scope=row>2</th><td>PSME</td><td>34.80</td><td>27,4199988   </td><td>122.157864</td><td> 83.65030</td></tr>\n",
              "\t<tr><th scope=row>3</th><td>PSME</td><td>24.89</td><td>NA           </td><td>  3.958274</td><td>  3.51270</td></tr>\n",
              "\t<tr><th scope=row>4</th><td>PSME</td><td>28.70</td><td>24,95999968  </td><td> 86.350653</td><td> 73.13027</td></tr>\n",
              "\t<tr><th scope=row>5</th><td>PSME</td><td>34.80</td><td>29,98999968  </td><td> 63.350906</td><td> 62.39044</td></tr>\n",
              "\t<tr><th scope=row>6</th><td>PSME</td><td>37.85</td><td>28,06999906  </td><td> 61.372765</td><td> 53.86594</td></tr>\n",
              "</tbody>\n",
              "</table>\n"
            ],
            "text/markdown": "\nA data.frame: 6 × 5\n\n| <!--/--> | species &lt;chr&gt; | diameter &lt;dbl&gt; | height &lt;chr&gt; | leafarea &lt;dbl&gt; | branchmass &lt;dbl&gt; |\n|---|---|---|---|---|---|\n| 1 | PSME | 54.61 | “27.03999951” | 338.485622 | 410.24638 |\n| 2 | PSME | 34.80 | 27,4199988    | 122.157864 |  83.65030 |\n| 3 | PSME | 24.89 | NA            |   3.958274 |   3.51270 |\n| 4 | PSME | 28.70 | 24,95999968   |  86.350653 |  73.13027 |\n| 5 | PSME | 34.80 | 29,98999968   |  63.350906 |  62.39044 |\n| 6 | PSME | 37.85 | 28,06999906   |  61.372765 |  53.86594 |\n\n",
            "text/latex": "A data.frame: 6 × 5\n\\begin{tabular}{r|lllll}\n  & species & diameter & height & leafarea & branchmass\\\\\n  & <chr> & <dbl> & <chr> & <dbl> & <dbl>\\\\\n\\hline\n\t1 & PSME & 54.61 & “27.03999951” & 338.485622 & 410.24638\\\\\n\t2 & PSME & 34.80 & 27,4199988    & 122.157864 &  83.65030\\\\\n\t3 & PSME & 24.89 & NA            &   3.958274 &   3.51270\\\\\n\t4 & PSME & 28.70 & 24,95999968   &  86.350653 &  73.13027\\\\\n\t5 & PSME & 34.80 & 29,98999968   &  63.350906 &  62.39044\\\\\n\t6 & PSME & 37.85 & 28,06999906   &  61.372765 &  53.86594\\\\\n\\end{tabular}\n",
            "text/plain": [
              "  species diameter height        leafarea   branchmass\n",
              "1 PSME    54.61    “27.03999951” 338.485622 410.24638 \n",
              "2 PSME    34.80    27,4199988    122.157864  83.65030 \n",
              "3 PSME    24.89    NA              3.958274   3.51270 \n",
              "4 PSME    28.70    24,95999968    86.350653  73.13027 \n",
              "5 PSME    34.80    29,98999968    63.350906  62.39044 \n",
              "6 PSME    37.85    28,06999906    61.372765  53.86594 "
            ]
          },
          "metadata": {}
        }
      ]
    },
    {
      "cell_type": "code",
      "source": [
        "sum(is.null(df))\n"
      ],
      "metadata": {
        "colab": {
          "base_uri": "https://localhost:8080/",
          "height": 34
        },
        "id": "nIYyV7tpzqxJ",
        "outputId": "077787f1-bf5c-4c1b-dd06-90a42fe46869"
      },
      "execution_count": 104,
      "outputs": [
        {
          "output_type": "display_data",
          "data": {
            "text/html": [
              "0"
            ],
            "text/markdown": "0",
            "text/latex": "0",
            "text/plain": [
              "[1] 0"
            ]
          },
          "metadata": {}
        }
      ]
    },
    {
      "cell_type": "code",
      "source": [
        "sum(is.na(df))\n"
      ],
      "metadata": {
        "colab": {
          "base_uri": "https://localhost:8080/",
          "height": 34
        },
        "id": "cln2YjmMzq0n",
        "outputId": "54c32e3f-8e1a-4a70-fa1a-181eefa50c8d"
      },
      "execution_count": 105,
      "outputs": [
        {
          "output_type": "display_data",
          "data": {
            "text/html": [
              "6"
            ],
            "text/markdown": "6",
            "text/latex": "6",
            "text/plain": [
              "[1] 6"
            ]
          },
          "metadata": {}
        }
      ]
    },
    {
      "cell_type": "code",
      "source": [
        "any(is.na(df))"
      ],
      "metadata": {
        "colab": {
          "base_uri": "https://localhost:8080/",
          "height": 34
        },
        "id": "mzco1NeU79Ka",
        "outputId": "f9bd6ca8-3a31-4d74-f618-38c8396c6130"
      },
      "execution_count": 106,
      "outputs": [
        {
          "output_type": "display_data",
          "data": {
            "text/html": [
              "TRUE"
            ],
            "text/markdown": "TRUE",
            "text/latex": "TRUE",
            "text/plain": [
              "[1] TRUE"
            ]
          },
          "metadata": {}
        }
      ]
    },
    {
      "cell_type": "code",
      "source": [
        "sum(is.na(df$species))"
      ],
      "metadata": {
        "colab": {
          "base_uri": "https://localhost:8080/",
          "height": 34
        },
        "id": "pmdnJbm-785i",
        "outputId": "4d991e35-6389-4c17-e9d2-f5ada85000f4"
      },
      "execution_count": 107,
      "outputs": [
        {
          "output_type": "display_data",
          "data": {
            "text/html": [
              "0"
            ],
            "text/markdown": "0",
            "text/latex": "0",
            "text/plain": [
              "[1] 0"
            ]
          },
          "metadata": {}
        }
      ]
    },
    {
      "cell_type": "code",
      "source": [
        "missing <- data.frame(colSums(is.na(df)))\n",
        "missing"
      ],
      "metadata": {
        "colab": {
          "base_uri": "https://localhost:8080/",
          "height": 254
        },
        "id": "BPRbFz6u783H",
        "outputId": "039e2858-3551-4004-8872-e0754c5a6e57"
      },
      "execution_count": 108,
      "outputs": [
        {
          "output_type": "display_data",
          "data": {
            "text/html": [
              "<table class=\"dataframe\">\n",
              "<caption>A data.frame: 5 × 1</caption>\n",
              "<thead>\n",
              "\t<tr><th></th><th scope=col>colSums.is.na.df..</th></tr>\n",
              "\t<tr><th></th><th scope=col>&lt;dbl&gt;</th></tr>\n",
              "</thead>\n",
              "<tbody>\n",
              "\t<tr><th scope=row>species</th><td>0</td></tr>\n",
              "\t<tr><th scope=row>diameter</th><td>0</td></tr>\n",
              "\t<tr><th scope=row>height</th><td>6</td></tr>\n",
              "\t<tr><th scope=row>leafarea</th><td>0</td></tr>\n",
              "\t<tr><th scope=row>branchmass</th><td>0</td></tr>\n",
              "</tbody>\n",
              "</table>\n"
            ],
            "text/markdown": "\nA data.frame: 5 × 1\n\n| <!--/--> | colSums.is.na.df.. &lt;dbl&gt; |\n|---|---|\n| species | 0 |\n| diameter | 0 |\n| height | 6 |\n| leafarea | 0 |\n| branchmass | 0 |\n\n",
            "text/latex": "A data.frame: 5 × 1\n\\begin{tabular}{r|l}\n  & colSums.is.na.df..\\\\\n  & <dbl>\\\\\n\\hline\n\tspecies & 0\\\\\n\tdiameter & 0\\\\\n\theight & 6\\\\\n\tleafarea & 0\\\\\n\tbranchmass & 0\\\\\n\\end{tabular}\n",
            "text/plain": [
              "           colSums.is.na.df..\n",
              "species    0                 \n",
              "diameter   0                 \n",
              "height     6                 \n",
              "leafarea   0                 \n",
              "branchmass 0                 "
            ]
          },
          "metadata": {}
        }
      ]
    },
    {
      "cell_type": "markdown",
      "source": [
        "## 1. Datatypes & Missing in each column"
      ],
      "metadata": {
        "id": "QTO0XS3-8pGg"
      }
    },
    {
      "cell_type": "markdown",
      "source": [
        "### 1. species"
      ],
      "metadata": {
        "id": "icmJUSa980_v"
      }
    },
    {
      "cell_type": "code",
      "source": [
        "head(df$species)"
      ],
      "metadata": {
        "colab": {
          "base_uri": "https://localhost:8080/",
          "height": 34
        },
        "id": "25Ol1iO19Ar-",
        "outputId": "6ef6ca5b-c496-44e7-a4dd-d36fd2ab57ad"
      },
      "execution_count": 109,
      "outputs": [
        {
          "output_type": "display_data",
          "data": {
            "text/html": [
              "<style>\n",
              ".list-inline {list-style: none; margin:0; padding: 0}\n",
              ".list-inline>li {display: inline-block}\n",
              ".list-inline>li:not(:last-child)::after {content: \"\\00b7\"; padding: 0 .5ex}\n",
              "</style>\n",
              "<ol class=list-inline><li>'PSME'</li><li>'PSME'</li><li>'PSME'</li><li>'PSME'</li><li>'PSME'</li><li>'PSME'</li></ol>\n"
            ],
            "text/markdown": "1. 'PSME'\n2. 'PSME'\n3. 'PSME'\n4. 'PSME'\n5. 'PSME'\n6. 'PSME'\n\n\n",
            "text/latex": "\\begin{enumerate*}\n\\item 'PSME'\n\\item 'PSME'\n\\item 'PSME'\n\\item 'PSME'\n\\item 'PSME'\n\\item 'PSME'\n\\end{enumerate*}\n",
            "text/plain": [
              "[1] \"PSME\" \"PSME\" \"PSME\" \"PSME\" \"PSME\" \"PSME\""
            ]
          },
          "metadata": {}
        }
      ]
    },
    {
      "cell_type": "code",
      "source": [
        "class(df$species)"
      ],
      "metadata": {
        "colab": {
          "base_uri": "https://localhost:8080/",
          "height": 34
        },
        "id": "EDFD25mX780l",
        "outputId": "eeb50dd3-e298-4f51-f282-899bb9b9b2a1"
      },
      "execution_count": 110,
      "outputs": [
        {
          "output_type": "display_data",
          "data": {
            "text/html": [
              "'character'"
            ],
            "text/markdown": "'character'",
            "text/latex": "'character'",
            "text/plain": [
              "[1] \"character\""
            ]
          },
          "metadata": {}
        }
      ]
    },
    {
      "cell_type": "code",
      "source": [
        "table(df$species)"
      ],
      "metadata": {
        "colab": {
          "base_uri": "https://localhost:8080/",
          "height": 71
        },
        "id": "WMWLSfC578yb",
        "outputId": "b26b58c7-897a-4315-e2f4-1dd7d8a282d4"
      },
      "execution_count": 111,
      "outputs": [
        {
          "output_type": "display_data",
          "data": {
            "text/plain": [
              "\n",
              "PIMO PIPO PSME \n",
              "  19   22   22 "
            ]
          },
          "metadata": {}
        }
      ]
    },
    {
      "cell_type": "markdown",
      "source": [
        "### 2. diameter"
      ],
      "metadata": {
        "id": "v4ZmvNVa9H1j"
      }
    },
    {
      "cell_type": "code",
      "source": [
        "head(df$diameter)"
      ],
      "metadata": {
        "colab": {
          "base_uri": "https://localhost:8080/",
          "height": 34
        },
        "id": "J8VCtnnC78wX",
        "outputId": "fc997fe0-27d1-44f4-8333-f67976b5d862"
      },
      "execution_count": 112,
      "outputs": [
        {
          "output_type": "display_data",
          "data": {
            "text/html": [
              "<style>\n",
              ".list-inline {list-style: none; margin:0; padding: 0}\n",
              ".list-inline>li {display: inline-block}\n",
              ".list-inline>li:not(:last-child)::after {content: \"\\00b7\"; padding: 0 .5ex}\n",
              "</style>\n",
              "<ol class=list-inline><li>54.61</li><li>34.8</li><li>24.89</li><li>28.7</li><li>34.8</li><li>37.85</li></ol>\n"
            ],
            "text/markdown": "1. 54.61\n2. 34.8\n3. 24.89\n4. 28.7\n5. 34.8\n6. 37.85\n\n\n",
            "text/latex": "\\begin{enumerate*}\n\\item 54.61\n\\item 34.8\n\\item 24.89\n\\item 28.7\n\\item 34.8\n\\item 37.85\n\\end{enumerate*}\n",
            "text/plain": [
              "[1] 54.61 34.80 24.89 28.70 34.80 37.85"
            ]
          },
          "metadata": {}
        }
      ]
    },
    {
      "cell_type": "code",
      "source": [
        "class(df$diameter)"
      ],
      "metadata": {
        "colab": {
          "base_uri": "https://localhost:8080/",
          "height": 34
        },
        "id": "A-J5d2H478t_",
        "outputId": "4ba98910-5257-4cf2-c72a-f33faea4ee2b"
      },
      "execution_count": 113,
      "outputs": [
        {
          "output_type": "display_data",
          "data": {
            "text/html": [
              "'numeric'"
            ],
            "text/markdown": "'numeric'",
            "text/latex": "'numeric'",
            "text/plain": [
              "[1] \"numeric\""
            ]
          },
          "metadata": {}
        }
      ]
    },
    {
      "cell_type": "markdown",
      "source": [
        "### 3. height"
      ],
      "metadata": {
        "id": "RJbUSmhb9Qz-"
      }
    },
    {
      "cell_type": "markdown",
      "source": [
        "head(df$height)"
      ],
      "metadata": {
        "id": "xRtdOeX078ru"
      }
    },
    {
      "cell_type": "markdown",
      "source": [
        "#### remove any unwanted char from height"
      ],
      "metadata": {
        "id": "m-AtYSTF9Vgm"
      }
    },
    {
      "cell_type": "code",
      "source": [
        "df$height = gsub(',','.', df$height)"
      ],
      "metadata": {
        "id": "TnGW_JmJCOvK"
      },
      "execution_count": 138,
      "outputs": []
    },
    {
      "cell_type": "code",
      "source": [
        "# remove unwanted characters from the text values and convert to numeric\n",
        "df$height <- as.numeric(gsub(\"[^0-9.,-]\", \"\", df$height))"
      ],
      "metadata": {
        "id": "cogZYhloB7Am"
      },
      "execution_count": 139,
      "outputs": []
    },
    {
      "cell_type": "code",
      "source": [
        "df$height"
      ],
      "metadata": {
        "colab": {
          "base_uri": "https://localhost:8080/",
          "height": 104
        },
        "id": "oPRW_pTB9nn4",
        "outputId": "20190d01-8acb-4f8a-c9c1-cb26a26fb6b9"
      },
      "execution_count": 140,
      "outputs": [
        {
          "output_type": "display_data",
          "data": {
            "text/html": [
              "<style>\n",
              ".list-inline {list-style: none; margin:0; padding: 0}\n",
              ".list-inline>li {display: inline-block}\n",
              ".list-inline>li:not(:last-child)::after {content: \"\\00b7\"; padding: 0 .5ex}\n",
              "</style>\n",
              "<ol class=list-inline><li>27.03999951</li><li>27.4199988</li><li>&lt;NA&gt;</li><li>24.95999968</li><li>29.98999968</li><li>28.06999906</li><li>&lt;NA&gt;</li><li>&lt;NA&gt;</li><li>30.10000028</li><li>25.84999877</li><li>31.82999998</li><li>31.35000017</li><li>32.61000019</li><li>31.69999766</li><li>30.17999806</li><li>4.949999782</li><li>5.26000011</li><li>5.580000195</li><li>6.470000131</li><li>&lt;NA&gt;</li><li>33.30000015</li><li>19.38999953</li><li>39.36999864</li><li>35.8099995</li><li>20.80000143</li><li>29.11000066</li><li>22.39999889</li><li>27.69000074</li><li>35.58000047</li><li>&lt;NA&gt;</li><li>41.16000258</li><li>23.34000042</li><li>25.94000095</li><li>25.11000022</li><li>30.3899993</li><li>28.39999855</li><li>23.38000056</li><li>31.72999928</li><li>7.360000515</li><li>3.569999832</li><li>31.92999734</li><li>6.919999749</li><li>5.849999418</li><li>35.13999818</li><li>39.84000257</li><li>40.65999885</li><li>38.88999786</li><li>36.23999975</li><li>23.1300004</li><li>37.5899983</li><li>21.28999927</li><li>13.43999951</li><li>&lt;NA&gt;</li><li>29.04999924</li><li>35.51999923</li><li>5.420000304</li><li>34.55999883</li><li>44.64000038</li><li>22.59000012</li><li>44.9899975</li><li>40.22999936</li><li>12.97999965</li><li>4.949999798</li></ol>\n"
            ],
            "text/markdown": "1. 27.03999951\n2. 27.4199988\n3. &lt;NA&gt;\n4. 24.95999968\n5. 29.98999968\n6. 28.06999906\n7. &lt;NA&gt;\n8. &lt;NA&gt;\n9. 30.10000028\n10. 25.84999877\n11. 31.82999998\n12. 31.35000017\n13. 32.61000019\n14. 31.69999766\n15. 30.17999806\n16. 4.949999782\n17. 5.26000011\n18. 5.580000195\n19. 6.470000131\n20. &lt;NA&gt;\n21. 33.30000015\n22. 19.38999953\n23. 39.36999864\n24. 35.8099995\n25. 20.80000143\n26. 29.11000066\n27. 22.39999889\n28. 27.69000074\n29. 35.58000047\n30. &lt;NA&gt;\n31. 41.16000258\n32. 23.34000042\n33. 25.94000095\n34. 25.11000022\n35. 30.3899993\n36. 28.39999855\n37. 23.38000056\n38. 31.72999928\n39. 7.360000515\n40. 3.569999832\n41. 31.92999734\n42. 6.919999749\n43. 5.849999418\n44. 35.13999818\n45. 39.84000257\n46. 40.65999885\n47. 38.88999786\n48. 36.23999975\n49. 23.1300004\n50. 37.5899983\n51. 21.28999927\n52. 13.43999951\n53. &lt;NA&gt;\n54. 29.04999924\n55. 35.51999923\n56. 5.420000304\n57. 34.55999883\n58. 44.64000038\n59. 22.59000012\n60. 44.9899975\n61. 40.22999936\n62. 12.97999965\n63. 4.949999798\n\n\n",
            "text/latex": "\\begin{enumerate*}\n\\item 27.03999951\n\\item 27.4199988\n\\item <NA>\n\\item 24.95999968\n\\item 29.98999968\n\\item 28.06999906\n\\item <NA>\n\\item <NA>\n\\item 30.10000028\n\\item 25.84999877\n\\item 31.82999998\n\\item 31.35000017\n\\item 32.61000019\n\\item 31.69999766\n\\item 30.17999806\n\\item 4.949999782\n\\item 5.26000011\n\\item 5.580000195\n\\item 6.470000131\n\\item <NA>\n\\item 33.30000015\n\\item 19.38999953\n\\item 39.36999864\n\\item 35.8099995\n\\item 20.80000143\n\\item 29.11000066\n\\item 22.39999889\n\\item 27.69000074\n\\item 35.58000047\n\\item <NA>\n\\item 41.16000258\n\\item 23.34000042\n\\item 25.94000095\n\\item 25.11000022\n\\item 30.3899993\n\\item 28.39999855\n\\item 23.38000056\n\\item 31.72999928\n\\item 7.360000515\n\\item 3.569999832\n\\item 31.92999734\n\\item 6.919999749\n\\item 5.849999418\n\\item 35.13999818\n\\item 39.84000257\n\\item 40.65999885\n\\item 38.88999786\n\\item 36.23999975\n\\item 23.1300004\n\\item 37.5899983\n\\item 21.28999927\n\\item 13.43999951\n\\item <NA>\n\\item 29.04999924\n\\item 35.51999923\n\\item 5.420000304\n\\item 34.55999883\n\\item 44.64000038\n\\item 22.59000012\n\\item 44.9899975\n\\item 40.22999936\n\\item 12.97999965\n\\item 4.949999798\n\\end{enumerate*}\n",
            "text/plain": [
              " [1] 27.040000 27.419999        NA 24.960000 29.990000 28.069999        NA\n",
              " [8]        NA 30.100000 25.849999 31.830000 31.350000 32.610000 31.699998\n",
              "[15] 30.179998  4.950000  5.260000  5.580000  6.470000        NA 33.300000\n",
              "[22] 19.390000 39.369999 35.810000 20.800001 29.110001 22.399999 27.690001\n",
              "[29] 35.580000        NA 41.160003 23.340000 25.940001 25.110000 30.389999\n",
              "[36] 28.399999 23.380001 31.729999  7.360001  3.570000 31.929997  6.920000\n",
              "[43]  5.849999 35.139998 39.840003 40.659999 38.889998 36.240000 23.130000\n",
              "[50] 37.589998 21.289999 13.440000        NA 29.049999 35.519999  5.420000\n",
              "[57] 34.559999 44.640000 22.590000 44.989998 40.229999 12.980000  4.950000"
            ]
          },
          "metadata": {}
        }
      ]
    },
    {
      "cell_type": "markdown",
      "source": [
        "### Fill nul in height"
      ],
      "metadata": {
        "id": "ge0ImW6DCnEl"
      }
    },
    {
      "cell_type": "code",
      "source": [
        "mean_height = round(mean(df$height, na.rm = T))\n",
        "mean_height"
      ],
      "metadata": {
        "colab": {
          "base_uri": "https://localhost:8080/",
          "height": 34
        },
        "id": "hQJ0Vo3q9nk4",
        "outputId": "971469de-2d43-4a4f-c9fe-6f1b0f6a6a98"
      },
      "execution_count": 141,
      "outputs": [
        {
          "output_type": "display_data",
          "data": {
            "text/html": [
              "26"
            ],
            "text/markdown": "26",
            "text/latex": "26",
            "text/plain": [
              "[1] 26"
            ]
          },
          "metadata": {}
        }
      ]
    },
    {
      "cell_type": "code",
      "source": [
        "df$height = replace_na(df$height, mean_height)"
      ],
      "metadata": {
        "id": "86vYQ-uG9niM"
      },
      "execution_count": 142,
      "outputs": []
    },
    {
      "cell_type": "code",
      "source": [
        "df$height = round(df$height, 2)"
      ],
      "metadata": {
        "id": "ziLjFUsh9nd4"
      },
      "execution_count": 143,
      "outputs": []
    },
    {
      "cell_type": "code",
      "source": [
        "df$height"
      ],
      "metadata": {
        "colab": {
          "base_uri": "https://localhost:8080/",
          "height": 69
        },
        "id": "03Y7Ewy9FBK9",
        "outputId": "6af92ec3-6158-41be-8e00-6e41af4a0e05"
      },
      "execution_count": 144,
      "outputs": [
        {
          "output_type": "display_data",
          "data": {
            "text/html": [
              "<style>\n",
              ".list-inline {list-style: none; margin:0; padding: 0}\n",
              ".list-inline>li {display: inline-block}\n",
              ".list-inline>li:not(:last-child)::after {content: \"\\00b7\"; padding: 0 .5ex}\n",
              "</style>\n",
              "<ol class=list-inline><li>27.04</li><li>27.42</li><li>26</li><li>24.96</li><li>29.99</li><li>28.07</li><li>26</li><li>26</li><li>30.1</li><li>25.85</li><li>31.83</li><li>31.35</li><li>32.61</li><li>31.7</li><li>30.18</li><li>4.95</li><li>5.26</li><li>5.58</li><li>6.47</li><li>26</li><li>33.3</li><li>19.39</li><li>39.37</li><li>35.81</li><li>20.8</li><li>29.11</li><li>22.4</li><li>27.69</li><li>35.58</li><li>26</li><li>41.16</li><li>23.34</li><li>25.94</li><li>25.11</li><li>30.39</li><li>28.4</li><li>23.38</li><li>31.73</li><li>7.36</li><li>3.57</li><li>31.93</li><li>6.92</li><li>5.85</li><li>35.14</li><li>39.84</li><li>40.66</li><li>38.89</li><li>36.24</li><li>23.13</li><li>37.59</li><li>21.29</li><li>13.44</li><li>26</li><li>29.05</li><li>35.52</li><li>5.42</li><li>34.56</li><li>44.64</li><li>22.59</li><li>44.99</li><li>40.23</li><li>12.98</li><li>4.95</li></ol>\n"
            ],
            "text/markdown": "1. 27.04\n2. 27.42\n3. 26\n4. 24.96\n5. 29.99\n6. 28.07\n7. 26\n8. 26\n9. 30.1\n10. 25.85\n11. 31.83\n12. 31.35\n13. 32.61\n14. 31.7\n15. 30.18\n16. 4.95\n17. 5.26\n18. 5.58\n19. 6.47\n20. 26\n21. 33.3\n22. 19.39\n23. 39.37\n24. 35.81\n25. 20.8\n26. 29.11\n27. 22.4\n28. 27.69\n29. 35.58\n30. 26\n31. 41.16\n32. 23.34\n33. 25.94\n34. 25.11\n35. 30.39\n36. 28.4\n37. 23.38\n38. 31.73\n39. 7.36\n40. 3.57\n41. 31.93\n42. 6.92\n43. 5.85\n44. 35.14\n45. 39.84\n46. 40.66\n47. 38.89\n48. 36.24\n49. 23.13\n50. 37.59\n51. 21.29\n52. 13.44\n53. 26\n54. 29.05\n55. 35.52\n56. 5.42\n57. 34.56\n58. 44.64\n59. 22.59\n60. 44.99\n61. 40.23\n62. 12.98\n63. 4.95\n\n\n",
            "text/latex": "\\begin{enumerate*}\n\\item 27.04\n\\item 27.42\n\\item 26\n\\item 24.96\n\\item 29.99\n\\item 28.07\n\\item 26\n\\item 26\n\\item 30.1\n\\item 25.85\n\\item 31.83\n\\item 31.35\n\\item 32.61\n\\item 31.7\n\\item 30.18\n\\item 4.95\n\\item 5.26\n\\item 5.58\n\\item 6.47\n\\item 26\n\\item 33.3\n\\item 19.39\n\\item 39.37\n\\item 35.81\n\\item 20.8\n\\item 29.11\n\\item 22.4\n\\item 27.69\n\\item 35.58\n\\item 26\n\\item 41.16\n\\item 23.34\n\\item 25.94\n\\item 25.11\n\\item 30.39\n\\item 28.4\n\\item 23.38\n\\item 31.73\n\\item 7.36\n\\item 3.57\n\\item 31.93\n\\item 6.92\n\\item 5.85\n\\item 35.14\n\\item 39.84\n\\item 40.66\n\\item 38.89\n\\item 36.24\n\\item 23.13\n\\item 37.59\n\\item 21.29\n\\item 13.44\n\\item 26\n\\item 29.05\n\\item 35.52\n\\item 5.42\n\\item 34.56\n\\item 44.64\n\\item 22.59\n\\item 44.99\n\\item 40.23\n\\item 12.98\n\\item 4.95\n\\end{enumerate*}\n",
            "text/plain": [
              " [1] 27.04 27.42 26.00 24.96 29.99 28.07 26.00 26.00 30.10 25.85 31.83 31.35\n",
              "[13] 32.61 31.70 30.18  4.95  5.26  5.58  6.47 26.00 33.30 19.39 39.37 35.81\n",
              "[25] 20.80 29.11 22.40 27.69 35.58 26.00 41.16 23.34 25.94 25.11 30.39 28.40\n",
              "[37] 23.38 31.73  7.36  3.57 31.93  6.92  5.85 35.14 39.84 40.66 38.89 36.24\n",
              "[49] 23.13 37.59 21.29 13.44 26.00 29.05 35.52  5.42 34.56 44.64 22.59 44.99\n",
              "[61] 40.23 12.98  4.95"
            ]
          },
          "metadata": {}
        }
      ]
    },
    {
      "cell_type": "markdown",
      "source": [
        "## Ensure there is no Missing values:"
      ],
      "metadata": {
        "id": "G3M50SfiBCGF"
      }
    },
    {
      "cell_type": "code",
      "source": [
        "missing = data.frame(colSums(is.na(df)))\n",
        "missing"
      ],
      "metadata": {
        "colab": {
          "base_uri": "https://localhost:8080/",
          "height": 254
        },
        "id": "EMFFeYuRBB4M",
        "outputId": "b96f0f43-019e-4ba8-81a7-0a5e1e17aa49"
      },
      "execution_count": 127,
      "outputs": [
        {
          "output_type": "display_data",
          "data": {
            "text/html": [
              "<table class=\"dataframe\">\n",
              "<caption>A data.frame: 5 × 1</caption>\n",
              "<thead>\n",
              "\t<tr><th></th><th scope=col>colSums.is.na.df..</th></tr>\n",
              "\t<tr><th></th><th scope=col>&lt;dbl&gt;</th></tr>\n",
              "</thead>\n",
              "<tbody>\n",
              "\t<tr><th scope=row>species</th><td>0</td></tr>\n",
              "\t<tr><th scope=row>diameter</th><td>0</td></tr>\n",
              "\t<tr><th scope=row>height</th><td>0</td></tr>\n",
              "\t<tr><th scope=row>leafarea</th><td>0</td></tr>\n",
              "\t<tr><th scope=row>branchmass</th><td>0</td></tr>\n",
              "</tbody>\n",
              "</table>\n"
            ],
            "text/markdown": "\nA data.frame: 5 × 1\n\n| <!--/--> | colSums.is.na.df.. &lt;dbl&gt; |\n|---|---|\n| species | 0 |\n| diameter | 0 |\n| height | 0 |\n| leafarea | 0 |\n| branchmass | 0 |\n\n",
            "text/latex": "A data.frame: 5 × 1\n\\begin{tabular}{r|l}\n  & colSums.is.na.df..\\\\\n  & <dbl>\\\\\n\\hline\n\tspecies & 0\\\\\n\tdiameter & 0\\\\\n\theight & 0\\\\\n\tleafarea & 0\\\\\n\tbranchmass & 0\\\\\n\\end{tabular}\n",
            "text/plain": [
              "           colSums.is.na.df..\n",
              "species    0                 \n",
              "diameter   0                 \n",
              "height     0                 \n",
              "leafarea   0                 \n",
              "branchmass 0                 "
            ]
          },
          "metadata": {}
        }
      ]
    },
    {
      "cell_type": "code",
      "source": [
        "df$leafarea"
      ],
      "metadata": {
        "colab": {
          "base_uri": "https://localhost:8080/",
          "height": 104
        },
        "id": "o-XDrvIHBB0S",
        "outputId": "879ff067-7cec-4b65-82ff-15234b18c1cb"
      },
      "execution_count": 128,
      "outputs": [
        {
          "output_type": "display_data",
          "data": {
            "text/html": [
              "<style>\n",
              ".list-inline {list-style: none; margin:0; padding: 0}\n",
              ".list-inline>li {display: inline-block}\n",
              ".list-inline>li:not(:last-child)::after {content: \"\\00b7\"; padding: 0 .5ex}\n",
              "</style>\n",
              "<ol class=list-inline><li>338.485622</li><li>122.157864</li><li>3.958274</li><li>86.350653</li><li>63.350906</li><li>61.372765</li><li>32.077794</li><li>147.270523</li><li>141.787332</li><li>45.020041</li><li>145.809802</li><li>349.05701</li><li>176.029213</li><li>319.507115</li><li>234.368784</li><li>4.851567</li><li>7.595163</li><li>11.502851</li><li>25.380647</li><li>65.698749</li><li>160.839174</li><li>31.780702</li><li>189.733007</li><li>253.308265</li><li>91.538428</li><li>90.453658</li><li>99.73679</li><li>34.464685</li><li>68.150309</li><li>46.32606</li><li>160.993131</li><li>9.806496</li><li>20.74328</li><li>21.649603</li><li>66.633675</li><li>54.267994</li><li>19.84468</li><li>131.727303</li><li>22.365837</li><li>2.636336</li><li>411.160376</li><li>15.476022</li><li>14.493428</li><li>169.053644</li><li>139.651156</li><li>376.308256</li><li>417.209436</li><li>103.672633</li><li>33.71358</li><li>116.154916</li><li>44.934469</li><li>18.855867</li><li>154.078625</li><li>70.602797</li><li>169.163842</li><li>7.650902</li><li>93.072006</li><li>277.49436</li><li>131.856837</li><li>121.428976</li><li>212.443589</li><li>82.093031</li><li>6.551044</li></ol>\n"
            ],
            "text/markdown": "1. 338.485622\n2. 122.157864\n3. 3.958274\n4. 86.350653\n5. 63.350906\n6. 61.372765\n7. 32.077794\n8. 147.270523\n9. 141.787332\n10. 45.020041\n11. 145.809802\n12. 349.05701\n13. 176.029213\n14. 319.507115\n15. 234.368784\n16. 4.851567\n17. 7.595163\n18. 11.502851\n19. 25.380647\n20. 65.698749\n21. 160.839174\n22. 31.780702\n23. 189.733007\n24. 253.308265\n25. 91.538428\n26. 90.453658\n27. 99.73679\n28. 34.464685\n29. 68.150309\n30. 46.32606\n31. 160.993131\n32. 9.806496\n33. 20.74328\n34. 21.649603\n35. 66.633675\n36. 54.267994\n37. 19.84468\n38. 131.727303\n39. 22.365837\n40. 2.636336\n41. 411.160376\n42. 15.476022\n43. 14.493428\n44. 169.053644\n45. 139.651156\n46. 376.308256\n47. 417.209436\n48. 103.672633\n49. 33.71358\n50. 116.154916\n51. 44.934469\n52. 18.855867\n53. 154.078625\n54. 70.602797\n55. 169.163842\n56. 7.650902\n57. 93.072006\n58. 277.49436\n59. 131.856837\n60. 121.428976\n61. 212.443589\n62. 82.093031\n63. 6.551044\n\n\n",
            "text/latex": "\\begin{enumerate*}\n\\item 338.485622\n\\item 122.157864\n\\item 3.958274\n\\item 86.350653\n\\item 63.350906\n\\item 61.372765\n\\item 32.077794\n\\item 147.270523\n\\item 141.787332\n\\item 45.020041\n\\item 145.809802\n\\item 349.05701\n\\item 176.029213\n\\item 319.507115\n\\item 234.368784\n\\item 4.851567\n\\item 7.595163\n\\item 11.502851\n\\item 25.380647\n\\item 65.698749\n\\item 160.839174\n\\item 31.780702\n\\item 189.733007\n\\item 253.308265\n\\item 91.538428\n\\item 90.453658\n\\item 99.73679\n\\item 34.464685\n\\item 68.150309\n\\item 46.32606\n\\item 160.993131\n\\item 9.806496\n\\item 20.74328\n\\item 21.649603\n\\item 66.633675\n\\item 54.267994\n\\item 19.84468\n\\item 131.727303\n\\item 22.365837\n\\item 2.636336\n\\item 411.160376\n\\item 15.476022\n\\item 14.493428\n\\item 169.053644\n\\item 139.651156\n\\item 376.308256\n\\item 417.209436\n\\item 103.672633\n\\item 33.71358\n\\item 116.154916\n\\item 44.934469\n\\item 18.855867\n\\item 154.078625\n\\item 70.602797\n\\item 169.163842\n\\item 7.650902\n\\item 93.072006\n\\item 277.49436\n\\item 131.856837\n\\item 121.428976\n\\item 212.443589\n\\item 82.093031\n\\item 6.551044\n\\end{enumerate*}\n",
            "text/plain": [
              " [1] 338.485622 122.157864   3.958274  86.350653  63.350906  61.372765\n",
              " [7]  32.077794 147.270523 141.787332  45.020041 145.809802 349.057010\n",
              "[13] 176.029213 319.507115 234.368784   4.851567   7.595163  11.502851\n",
              "[19]  25.380647  65.698749 160.839174  31.780702 189.733007 253.308265\n",
              "[25]  91.538428  90.453658  99.736790  34.464685  68.150309  46.326060\n",
              "[31] 160.993131   9.806496  20.743280  21.649603  66.633675  54.267994\n",
              "[37]  19.844680 131.727303  22.365837   2.636336 411.160376  15.476022\n",
              "[43]  14.493428 169.053644 139.651156 376.308256 417.209436 103.672633\n",
              "[49]  33.713580 116.154916  44.934469  18.855867 154.078625  70.602797\n",
              "[55] 169.163842   7.650902  93.072006 277.494360 131.856837 121.428976\n",
              "[61] 212.443589  82.093031   6.551044"
            ]
          },
          "metadata": {}
        }
      ]
    },
    {
      "cell_type": "code",
      "source": [
        "str(df$leafarea)"
      ],
      "metadata": {
        "colab": {
          "base_uri": "https://localhost:8080/"
        },
        "id": "fAqPHfj8BBxe",
        "outputId": "db665679-d6d3-40ee-bd30-ff00df3c18c1"
      },
      "execution_count": 129,
      "outputs": [
        {
          "output_type": "stream",
          "name": "stdout",
          "text": [
            " num [1:63] 338.49 122.16 3.96 86.35 63.35 ...\n"
          ]
        }
      ]
    },
    {
      "cell_type": "code",
      "source": [
        "df$leafarea = round(df$leafarea, 2)"
      ],
      "metadata": {
        "id": "FVmnUjHAGUx1"
      },
      "execution_count": 147,
      "outputs": []
    },
    {
      "cell_type": "code",
      "source": [
        "str(df$branchmass)"
      ],
      "metadata": {
        "colab": {
          "base_uri": "https://localhost:8080/"
        },
        "id": "DIa7kS19BBu3",
        "outputId": "6699e70d-dc20-4efd-8c88-36f757289ad7"
      },
      "execution_count": 131,
      "outputs": [
        {
          "output_type": "stream",
          "name": "stdout",
          "text": [
            " num [1:63] 410.25 83.65 3.51 73.13 62.39 ...\n"
          ]
        }
      ]
    },
    {
      "cell_type": "code",
      "source": [
        "df$branchmass = round(df$branchmass, 2)"
      ],
      "metadata": {
        "id": "22_BqCwFGO9W"
      },
      "execution_count": 146,
      "outputs": []
    },
    {
      "cell_type": "code",
      "source": [
        "View(df)"
      ],
      "metadata": {
        "colab": {
          "base_uri": "https://localhost:8080/",
          "height": 1000
        },
        "id": "BrDTDkRHBBsq",
        "outputId": "8f650920-ef09-4399-f107-53164a2e9eac"
      },
      "execution_count": 148,
      "outputs": [
        {
          "output_type": "display_data",
          "data": {
            "text/plain": [
              "   species diameter height leafarea branchmass\n",
              "1  PSME    54.61    27.04  338.49   410.25    \n",
              "2  PSME    34.80    27.42  122.16    83.65    \n",
              "3  PSME    24.89    26.00    3.96     3.51    \n",
              "4  PSME    28.70    24.96   86.35    73.13    \n",
              "5  PSME    34.80    29.99   63.35    62.39    \n",
              "6  PSME    37.85    28.07   61.37    53.87    \n",
              "7  PSME    22.61    26.00   32.08    22.22    \n",
              "8  PSME    39.37    26.00  147.27   119.39    \n",
              "9  PSME    39.88    30.10  141.79    95.59    \n",
              "10 PSME    26.16    25.85   45.02    45.33    \n",
              "11 PSME    43.69    31.83  145.81    96.32    \n",
              "12 PSME    69.85    31.35  349.06   543.97    \n",
              "13 PSME    44.45    32.61  176.03   110.12    \n",
              "14 PSME    56.64    31.70  319.51   260.49    \n",
              "15 PSME    54.61    30.18  234.37   281.12    \n",
              "16 PSME     5.33     4.95    4.85     2.67    \n",
              "17 PSME     6.10     5.26    7.60     3.57    \n",
              "18 PSME     7.37     5.58   11.50     4.59    \n",
              "19 PSME     8.33     6.47   25.38     8.64    \n",
              "20 PSME    13.51    26.00   65.70    34.94    \n",
              "21 PSME    51.31    33.30  160.84   165.06    \n",
              "22 PSME    22.35    19.39   31.78    35.65    \n",
              "23 PIPO    69.60    39.37  189.73   452.42    \n",
              "24 PIPO    58.42    35.81  253.31   595.64    \n",
              "25 PIPO    33.27    20.80   91.54   160.44    \n",
              "26 PIPO    44.20    29.11   90.45   149.73    \n",
              "27 PIPO    30.48    22.40   99.74    44.14    \n",
              "28 PIPO    27.43    27.69   34.46    22.98    \n",
              "29 PIPO    43.18    35.58   68.15   106.40    \n",
              "30 PIPO    38.86    26.00   46.33    58.24    \n",
              "⋮  ⋮       ⋮        ⋮      ⋮        ⋮         \n",
              "34 PIPO    24.89    25.11   21.65     16.77   \n",
              "35 PIPO    45.97    30.39   66.63     87.37   \n",
              "36 PIPO    35.05    28.40   54.27     51.09   \n",
              "37 PIPO    23.88    23.38   19.84     13.98   \n",
              "38 PIPO    60.20    31.73  131.73    408.34   \n",
              "39 PIPO    12.45     7.36   22.37     16.99   \n",
              "40 PIPO     4.83     3.57    2.64      1.78   \n",
              "41 PIPO    70.61    31.93  411.16   1182.42   \n",
              "42 PIPO    11.43     6.92   15.48      9.25   \n",
              "43 PIPO    11.94     5.85   14.49      7.56   \n",
              "44 PIPO    60.20    35.14  169.05    658.24   \n",
              "45 PIMO    60.71    39.84  139.65    139.26   \n",
              "46 PIMO    70.61    40.66  376.31    541.31   \n",
              "47 PIMO    57.66    38.89  417.21    310.57   \n",
              "48 PIMO    43.13    36.24  103.67    100.40   \n",
              "49 PIMO    18.29    23.13   33.71     14.49   \n",
              "50 PIMO    43.43    37.59  116.15    108.45   \n",
              "51 PIMO    18.54    21.29   44.93     16.54   \n",
              "52 PIMO    12.95    13.44   18.86      8.71   \n",
              "53 PIMO    37.85    26.00  154.08     72.03   \n",
              "54 PIMO    26.92    29.05   70.60     35.87   \n",
              "55 PIMO    38.61    35.52  169.16    114.06   \n",
              "56 PIMO     6.48     5.42    7.65      3.51   \n",
              "57 PIMO    31.75    34.56   93.07     44.73   \n",
              "58 PIMO    73.66    44.64  277.49    275.72   \n",
              "59 PIMO    28.19    22.59  131.86     91.76   \n",
              "60 PIMO    61.47    44.99  121.43    199.86   \n",
              "61 PIMO    51.56    40.23  212.44    220.56   \n",
              "62 PIMO    18.29    12.98   82.09     28.05   \n",
              "63 PIMO     8.38     4.95    6.55      4.37   "
            ],
            "text/html": [
              "<table class=\"dataframe\">\n",
              "<caption>A data.frame: 63 × 5</caption>\n",
              "<thead>\n",
              "\t<tr><th scope=col>species</th><th scope=col>diameter</th><th scope=col>height</th><th scope=col>leafarea</th><th scope=col>branchmass</th></tr>\n",
              "\t<tr><th scope=col>&lt;chr&gt;</th><th scope=col>&lt;dbl&gt;</th><th scope=col>&lt;dbl&gt;</th><th scope=col>&lt;dbl&gt;</th><th scope=col>&lt;dbl&gt;</th></tr>\n",
              "</thead>\n",
              "<tbody>\n",
              "\t<tr><td>PSME</td><td>54.61</td><td>27.04</td><td>338.49</td><td>410.25</td></tr>\n",
              "\t<tr><td>PSME</td><td>34.80</td><td>27.42</td><td>122.16</td><td> 83.65</td></tr>\n",
              "\t<tr><td>PSME</td><td>24.89</td><td>26.00</td><td>  3.96</td><td>  3.51</td></tr>\n",
              "\t<tr><td>PSME</td><td>28.70</td><td>24.96</td><td> 86.35</td><td> 73.13</td></tr>\n",
              "\t<tr><td>PSME</td><td>34.80</td><td>29.99</td><td> 63.35</td><td> 62.39</td></tr>\n",
              "\t<tr><td>PSME</td><td>37.85</td><td>28.07</td><td> 61.37</td><td> 53.87</td></tr>\n",
              "\t<tr><td>PSME</td><td>22.61</td><td>26.00</td><td> 32.08</td><td> 22.22</td></tr>\n",
              "\t<tr><td>PSME</td><td>39.37</td><td>26.00</td><td>147.27</td><td>119.39</td></tr>\n",
              "\t<tr><td>PSME</td><td>39.88</td><td>30.10</td><td>141.79</td><td> 95.59</td></tr>\n",
              "\t<tr><td>PSME</td><td>26.16</td><td>25.85</td><td> 45.02</td><td> 45.33</td></tr>\n",
              "\t<tr><td>PSME</td><td>43.69</td><td>31.83</td><td>145.81</td><td> 96.32</td></tr>\n",
              "\t<tr><td>PSME</td><td>69.85</td><td>31.35</td><td>349.06</td><td>543.97</td></tr>\n",
              "\t<tr><td>PSME</td><td>44.45</td><td>32.61</td><td>176.03</td><td>110.12</td></tr>\n",
              "\t<tr><td>PSME</td><td>56.64</td><td>31.70</td><td>319.51</td><td>260.49</td></tr>\n",
              "\t<tr><td>PSME</td><td>54.61</td><td>30.18</td><td>234.37</td><td>281.12</td></tr>\n",
              "\t<tr><td>PSME</td><td> 5.33</td><td> 4.95</td><td>  4.85</td><td>  2.67</td></tr>\n",
              "\t<tr><td>PSME</td><td> 6.10</td><td> 5.26</td><td>  7.60</td><td>  3.57</td></tr>\n",
              "\t<tr><td>PSME</td><td> 7.37</td><td> 5.58</td><td> 11.50</td><td>  4.59</td></tr>\n",
              "\t<tr><td>PSME</td><td> 8.33</td><td> 6.47</td><td> 25.38</td><td>  8.64</td></tr>\n",
              "\t<tr><td>PSME</td><td>13.51</td><td>26.00</td><td> 65.70</td><td> 34.94</td></tr>\n",
              "\t<tr><td>PSME</td><td>51.31</td><td>33.30</td><td>160.84</td><td>165.06</td></tr>\n",
              "\t<tr><td>PSME</td><td>22.35</td><td>19.39</td><td> 31.78</td><td> 35.65</td></tr>\n",
              "\t<tr><td>PIPO</td><td>69.60</td><td>39.37</td><td>189.73</td><td>452.42</td></tr>\n",
              "\t<tr><td>PIPO</td><td>58.42</td><td>35.81</td><td>253.31</td><td>595.64</td></tr>\n",
              "\t<tr><td>PIPO</td><td>33.27</td><td>20.80</td><td> 91.54</td><td>160.44</td></tr>\n",
              "\t<tr><td>PIPO</td><td>44.20</td><td>29.11</td><td> 90.45</td><td>149.73</td></tr>\n",
              "\t<tr><td>PIPO</td><td>30.48</td><td>22.40</td><td> 99.74</td><td> 44.14</td></tr>\n",
              "\t<tr><td>PIPO</td><td>27.43</td><td>27.69</td><td> 34.46</td><td> 22.98</td></tr>\n",
              "\t<tr><td>PIPO</td><td>43.18</td><td>35.58</td><td> 68.15</td><td>106.40</td></tr>\n",
              "\t<tr><td>PIPO</td><td>38.86</td><td>26.00</td><td> 46.33</td><td> 58.24</td></tr>\n",
              "\t<tr><td>⋮</td><td>⋮</td><td>⋮</td><td>⋮</td><td>⋮</td></tr>\n",
              "\t<tr><td>PIPO</td><td>24.89</td><td>25.11</td><td> 21.65</td><td>  16.77</td></tr>\n",
              "\t<tr><td>PIPO</td><td>45.97</td><td>30.39</td><td> 66.63</td><td>  87.37</td></tr>\n",
              "\t<tr><td>PIPO</td><td>35.05</td><td>28.40</td><td> 54.27</td><td>  51.09</td></tr>\n",
              "\t<tr><td>PIPO</td><td>23.88</td><td>23.38</td><td> 19.84</td><td>  13.98</td></tr>\n",
              "\t<tr><td>PIPO</td><td>60.20</td><td>31.73</td><td>131.73</td><td> 408.34</td></tr>\n",
              "\t<tr><td>PIPO</td><td>12.45</td><td> 7.36</td><td> 22.37</td><td>  16.99</td></tr>\n",
              "\t<tr><td>PIPO</td><td> 4.83</td><td> 3.57</td><td>  2.64</td><td>   1.78</td></tr>\n",
              "\t<tr><td>PIPO</td><td>70.61</td><td>31.93</td><td>411.16</td><td>1182.42</td></tr>\n",
              "\t<tr><td>PIPO</td><td>11.43</td><td> 6.92</td><td> 15.48</td><td>   9.25</td></tr>\n",
              "\t<tr><td>PIPO</td><td>11.94</td><td> 5.85</td><td> 14.49</td><td>   7.56</td></tr>\n",
              "\t<tr><td>PIPO</td><td>60.20</td><td>35.14</td><td>169.05</td><td> 658.24</td></tr>\n",
              "\t<tr><td>PIMO</td><td>60.71</td><td>39.84</td><td>139.65</td><td> 139.26</td></tr>\n",
              "\t<tr><td>PIMO</td><td>70.61</td><td>40.66</td><td>376.31</td><td> 541.31</td></tr>\n",
              "\t<tr><td>PIMO</td><td>57.66</td><td>38.89</td><td>417.21</td><td> 310.57</td></tr>\n",
              "\t<tr><td>PIMO</td><td>43.13</td><td>36.24</td><td>103.67</td><td> 100.40</td></tr>\n",
              "\t<tr><td>PIMO</td><td>18.29</td><td>23.13</td><td> 33.71</td><td>  14.49</td></tr>\n",
              "\t<tr><td>PIMO</td><td>43.43</td><td>37.59</td><td>116.15</td><td> 108.45</td></tr>\n",
              "\t<tr><td>PIMO</td><td>18.54</td><td>21.29</td><td> 44.93</td><td>  16.54</td></tr>\n",
              "\t<tr><td>PIMO</td><td>12.95</td><td>13.44</td><td> 18.86</td><td>   8.71</td></tr>\n",
              "\t<tr><td>PIMO</td><td>37.85</td><td>26.00</td><td>154.08</td><td>  72.03</td></tr>\n",
              "\t<tr><td>PIMO</td><td>26.92</td><td>29.05</td><td> 70.60</td><td>  35.87</td></tr>\n",
              "\t<tr><td>PIMO</td><td>38.61</td><td>35.52</td><td>169.16</td><td> 114.06</td></tr>\n",
              "\t<tr><td>PIMO</td><td> 6.48</td><td> 5.42</td><td>  7.65</td><td>   3.51</td></tr>\n",
              "\t<tr><td>PIMO</td><td>31.75</td><td>34.56</td><td> 93.07</td><td>  44.73</td></tr>\n",
              "\t<tr><td>PIMO</td><td>73.66</td><td>44.64</td><td>277.49</td><td> 275.72</td></tr>\n",
              "\t<tr><td>PIMO</td><td>28.19</td><td>22.59</td><td>131.86</td><td>  91.76</td></tr>\n",
              "\t<tr><td>PIMO</td><td>61.47</td><td>44.99</td><td>121.43</td><td> 199.86</td></tr>\n",
              "\t<tr><td>PIMO</td><td>51.56</td><td>40.23</td><td>212.44</td><td> 220.56</td></tr>\n",
              "\t<tr><td>PIMO</td><td>18.29</td><td>12.98</td><td> 82.09</td><td>  28.05</td></tr>\n",
              "\t<tr><td>PIMO</td><td> 8.38</td><td> 4.95</td><td>  6.55</td><td>   4.37</td></tr>\n",
              "</tbody>\n",
              "</table>\n"
            ],
            "text/markdown": "\nA data.frame: 63 × 5\n\n| species &lt;chr&gt; | diameter &lt;dbl&gt; | height &lt;dbl&gt; | leafarea &lt;dbl&gt; | branchmass &lt;dbl&gt; |\n|---|---|---|---|---|\n| PSME | 54.61 | 27.04 | 338.49 | 410.25 |\n| PSME | 34.80 | 27.42 | 122.16 |  83.65 |\n| PSME | 24.89 | 26.00 |   3.96 |   3.51 |\n| PSME | 28.70 | 24.96 |  86.35 |  73.13 |\n| PSME | 34.80 | 29.99 |  63.35 |  62.39 |\n| PSME | 37.85 | 28.07 |  61.37 |  53.87 |\n| PSME | 22.61 | 26.00 |  32.08 |  22.22 |\n| PSME | 39.37 | 26.00 | 147.27 | 119.39 |\n| PSME | 39.88 | 30.10 | 141.79 |  95.59 |\n| PSME | 26.16 | 25.85 |  45.02 |  45.33 |\n| PSME | 43.69 | 31.83 | 145.81 |  96.32 |\n| PSME | 69.85 | 31.35 | 349.06 | 543.97 |\n| PSME | 44.45 | 32.61 | 176.03 | 110.12 |\n| PSME | 56.64 | 31.70 | 319.51 | 260.49 |\n| PSME | 54.61 | 30.18 | 234.37 | 281.12 |\n| PSME |  5.33 |  4.95 |   4.85 |   2.67 |\n| PSME |  6.10 |  5.26 |   7.60 |   3.57 |\n| PSME |  7.37 |  5.58 |  11.50 |   4.59 |\n| PSME |  8.33 |  6.47 |  25.38 |   8.64 |\n| PSME | 13.51 | 26.00 |  65.70 |  34.94 |\n| PSME | 51.31 | 33.30 | 160.84 | 165.06 |\n| PSME | 22.35 | 19.39 |  31.78 |  35.65 |\n| PIPO | 69.60 | 39.37 | 189.73 | 452.42 |\n| PIPO | 58.42 | 35.81 | 253.31 | 595.64 |\n| PIPO | 33.27 | 20.80 |  91.54 | 160.44 |\n| PIPO | 44.20 | 29.11 |  90.45 | 149.73 |\n| PIPO | 30.48 | 22.40 |  99.74 |  44.14 |\n| PIPO | 27.43 | 27.69 |  34.46 |  22.98 |\n| PIPO | 43.18 | 35.58 |  68.15 | 106.40 |\n| PIPO | 38.86 | 26.00 |  46.33 |  58.24 |\n| ⋮ | ⋮ | ⋮ | ⋮ | ⋮ |\n| PIPO | 24.89 | 25.11 |  21.65 |   16.77 |\n| PIPO | 45.97 | 30.39 |  66.63 |   87.37 |\n| PIPO | 35.05 | 28.40 |  54.27 |   51.09 |\n| PIPO | 23.88 | 23.38 |  19.84 |   13.98 |\n| PIPO | 60.20 | 31.73 | 131.73 |  408.34 |\n| PIPO | 12.45 |  7.36 |  22.37 |   16.99 |\n| PIPO |  4.83 |  3.57 |   2.64 |    1.78 |\n| PIPO | 70.61 | 31.93 | 411.16 | 1182.42 |\n| PIPO | 11.43 |  6.92 |  15.48 |    9.25 |\n| PIPO | 11.94 |  5.85 |  14.49 |    7.56 |\n| PIPO | 60.20 | 35.14 | 169.05 |  658.24 |\n| PIMO | 60.71 | 39.84 | 139.65 |  139.26 |\n| PIMO | 70.61 | 40.66 | 376.31 |  541.31 |\n| PIMO | 57.66 | 38.89 | 417.21 |  310.57 |\n| PIMO | 43.13 | 36.24 | 103.67 |  100.40 |\n| PIMO | 18.29 | 23.13 |  33.71 |   14.49 |\n| PIMO | 43.43 | 37.59 | 116.15 |  108.45 |\n| PIMO | 18.54 | 21.29 |  44.93 |   16.54 |\n| PIMO | 12.95 | 13.44 |  18.86 |    8.71 |\n| PIMO | 37.85 | 26.00 | 154.08 |   72.03 |\n| PIMO | 26.92 | 29.05 |  70.60 |   35.87 |\n| PIMO | 38.61 | 35.52 | 169.16 |  114.06 |\n| PIMO |  6.48 |  5.42 |   7.65 |    3.51 |\n| PIMO | 31.75 | 34.56 |  93.07 |   44.73 |\n| PIMO | 73.66 | 44.64 | 277.49 |  275.72 |\n| PIMO | 28.19 | 22.59 | 131.86 |   91.76 |\n| PIMO | 61.47 | 44.99 | 121.43 |  199.86 |\n| PIMO | 51.56 | 40.23 | 212.44 |  220.56 |\n| PIMO | 18.29 | 12.98 |  82.09 |   28.05 |\n| PIMO |  8.38 |  4.95 |   6.55 |    4.37 |\n\n",
            "text/latex": "A data.frame: 63 × 5\n\\begin{tabular}{lllll}\n species & diameter & height & leafarea & branchmass\\\\\n <chr> & <dbl> & <dbl> & <dbl> & <dbl>\\\\\n\\hline\n\t PSME & 54.61 & 27.04 & 338.49 & 410.25\\\\\n\t PSME & 34.80 & 27.42 & 122.16 &  83.65\\\\\n\t PSME & 24.89 & 26.00 &   3.96 &   3.51\\\\\n\t PSME & 28.70 & 24.96 &  86.35 &  73.13\\\\\n\t PSME & 34.80 & 29.99 &  63.35 &  62.39\\\\\n\t PSME & 37.85 & 28.07 &  61.37 &  53.87\\\\\n\t PSME & 22.61 & 26.00 &  32.08 &  22.22\\\\\n\t PSME & 39.37 & 26.00 & 147.27 & 119.39\\\\\n\t PSME & 39.88 & 30.10 & 141.79 &  95.59\\\\\n\t PSME & 26.16 & 25.85 &  45.02 &  45.33\\\\\n\t PSME & 43.69 & 31.83 & 145.81 &  96.32\\\\\n\t PSME & 69.85 & 31.35 & 349.06 & 543.97\\\\\n\t PSME & 44.45 & 32.61 & 176.03 & 110.12\\\\\n\t PSME & 56.64 & 31.70 & 319.51 & 260.49\\\\\n\t PSME & 54.61 & 30.18 & 234.37 & 281.12\\\\\n\t PSME &  5.33 &  4.95 &   4.85 &   2.67\\\\\n\t PSME &  6.10 &  5.26 &   7.60 &   3.57\\\\\n\t PSME &  7.37 &  5.58 &  11.50 &   4.59\\\\\n\t PSME &  8.33 &  6.47 &  25.38 &   8.64\\\\\n\t PSME & 13.51 & 26.00 &  65.70 &  34.94\\\\\n\t PSME & 51.31 & 33.30 & 160.84 & 165.06\\\\\n\t PSME & 22.35 & 19.39 &  31.78 &  35.65\\\\\n\t PIPO & 69.60 & 39.37 & 189.73 & 452.42\\\\\n\t PIPO & 58.42 & 35.81 & 253.31 & 595.64\\\\\n\t PIPO & 33.27 & 20.80 &  91.54 & 160.44\\\\\n\t PIPO & 44.20 & 29.11 &  90.45 & 149.73\\\\\n\t PIPO & 30.48 & 22.40 &  99.74 &  44.14\\\\\n\t PIPO & 27.43 & 27.69 &  34.46 &  22.98\\\\\n\t PIPO & 43.18 & 35.58 &  68.15 & 106.40\\\\\n\t PIPO & 38.86 & 26.00 &  46.33 &  58.24\\\\\n\t ⋮ & ⋮ & ⋮ & ⋮ & ⋮\\\\\n\t PIPO & 24.89 & 25.11 &  21.65 &   16.77\\\\\n\t PIPO & 45.97 & 30.39 &  66.63 &   87.37\\\\\n\t PIPO & 35.05 & 28.40 &  54.27 &   51.09\\\\\n\t PIPO & 23.88 & 23.38 &  19.84 &   13.98\\\\\n\t PIPO & 60.20 & 31.73 & 131.73 &  408.34\\\\\n\t PIPO & 12.45 &  7.36 &  22.37 &   16.99\\\\\n\t PIPO &  4.83 &  3.57 &   2.64 &    1.78\\\\\n\t PIPO & 70.61 & 31.93 & 411.16 & 1182.42\\\\\n\t PIPO & 11.43 &  6.92 &  15.48 &    9.25\\\\\n\t PIPO & 11.94 &  5.85 &  14.49 &    7.56\\\\\n\t PIPO & 60.20 & 35.14 & 169.05 &  658.24\\\\\n\t PIMO & 60.71 & 39.84 & 139.65 &  139.26\\\\\n\t PIMO & 70.61 & 40.66 & 376.31 &  541.31\\\\\n\t PIMO & 57.66 & 38.89 & 417.21 &  310.57\\\\\n\t PIMO & 43.13 & 36.24 & 103.67 &  100.40\\\\\n\t PIMO & 18.29 & 23.13 &  33.71 &   14.49\\\\\n\t PIMO & 43.43 & 37.59 & 116.15 &  108.45\\\\\n\t PIMO & 18.54 & 21.29 &  44.93 &   16.54\\\\\n\t PIMO & 12.95 & 13.44 &  18.86 &    8.71\\\\\n\t PIMO & 37.85 & 26.00 & 154.08 &   72.03\\\\\n\t PIMO & 26.92 & 29.05 &  70.60 &   35.87\\\\\n\t PIMO & 38.61 & 35.52 & 169.16 &  114.06\\\\\n\t PIMO &  6.48 &  5.42 &   7.65 &    3.51\\\\\n\t PIMO & 31.75 & 34.56 &  93.07 &   44.73\\\\\n\t PIMO & 73.66 & 44.64 & 277.49 &  275.72\\\\\n\t PIMO & 28.19 & 22.59 & 131.86 &   91.76\\\\\n\t PIMO & 61.47 & 44.99 & 121.43 &  199.86\\\\\n\t PIMO & 51.56 & 40.23 & 212.44 &  220.56\\\\\n\t PIMO & 18.29 & 12.98 &  82.09 &   28.05\\\\\n\t PIMO &  8.38 &  4.95 &   6.55 &    4.37\\\\\n\\end{tabular}\n"
          },
          "metadata": {}
        }
      ]
    },
    {
      "cell_type": "markdown",
      "source": [
        "# Data Now is clean\n"
      ],
      "metadata": {
        "id": "lY8UD2DZHMcN"
      }
    },
    {
      "cell_type": "markdown",
      "source": [
        "## Subset Of the data"
      ],
      "metadata": {
        "id": "zX0QCTf84UgD"
      }
    },
    {
      "cell_type": "code",
      "source": [
        "#First Row\n",
        "df[1,]"
      ],
      "metadata": {
        "colab": {
          "base_uri": "https://localhost:8080/",
          "height": 129
        },
        "id": "ZbPOQIC44YG-",
        "outputId": "0be54790-8b0c-4142-ae3e-710530e20731"
      },
      "execution_count": 153,
      "outputs": [
        {
          "output_type": "display_data",
          "data": {
            "text/html": [
              "<table class=\"dataframe\">\n",
              "<caption>A data.frame: 1 × 5</caption>\n",
              "<thead>\n",
              "\t<tr><th></th><th scope=col>species</th><th scope=col>diameter</th><th scope=col>height</th><th scope=col>leafarea</th><th scope=col>branchmass</th></tr>\n",
              "\t<tr><th></th><th scope=col>&lt;chr&gt;</th><th scope=col>&lt;dbl&gt;</th><th scope=col>&lt;dbl&gt;</th><th scope=col>&lt;dbl&gt;</th><th scope=col>&lt;dbl&gt;</th></tr>\n",
              "</thead>\n",
              "<tbody>\n",
              "\t<tr><th scope=row>1</th><td>PSME</td><td>54.61</td><td>27.04</td><td>338.49</td><td>410.25</td></tr>\n",
              "</tbody>\n",
              "</table>\n"
            ],
            "text/markdown": "\nA data.frame: 1 × 5\n\n| <!--/--> | species &lt;chr&gt; | diameter &lt;dbl&gt; | height &lt;dbl&gt; | leafarea &lt;dbl&gt; | branchmass &lt;dbl&gt; |\n|---|---|---|---|---|---|\n| 1 | PSME | 54.61 | 27.04 | 338.49 | 410.25 |\n\n",
            "text/latex": "A data.frame: 1 × 5\n\\begin{tabular}{r|lllll}\n  & species & diameter & height & leafarea & branchmass\\\\\n  & <chr> & <dbl> & <dbl> & <dbl> & <dbl>\\\\\n\\hline\n\t1 & PSME & 54.61 & 27.04 & 338.49 & 410.25\\\\\n\\end{tabular}\n",
            "text/plain": [
              "  species diameter height leafarea branchmass\n",
              "1 PSME    54.61    27.04  338.49   410.25    "
            ]
          },
          "metadata": {}
        }
      ]
    },
    {
      "cell_type": "code",
      "source": [
        "#first column\n",
        "df[1,]"
      ],
      "metadata": {
        "colab": {
          "base_uri": "https://localhost:8080/",
          "height": 129
        },
        "id": "J_EVS4tD4ZDq",
        "outputId": "421e13af-577e-4a9b-ab1d-a228a428c87b"
      },
      "execution_count": 154,
      "outputs": [
        {
          "output_type": "display_data",
          "data": {
            "text/html": [
              "<table class=\"dataframe\">\n",
              "<caption>A data.frame: 1 × 5</caption>\n",
              "<thead>\n",
              "\t<tr><th></th><th scope=col>species</th><th scope=col>diameter</th><th scope=col>height</th><th scope=col>leafarea</th><th scope=col>branchmass</th></tr>\n",
              "\t<tr><th></th><th scope=col>&lt;chr&gt;</th><th scope=col>&lt;dbl&gt;</th><th scope=col>&lt;dbl&gt;</th><th scope=col>&lt;dbl&gt;</th><th scope=col>&lt;dbl&gt;</th></tr>\n",
              "</thead>\n",
              "<tbody>\n",
              "\t<tr><th scope=row>1</th><td>PSME</td><td>54.61</td><td>27.04</td><td>338.49</td><td>410.25</td></tr>\n",
              "</tbody>\n",
              "</table>\n"
            ],
            "text/markdown": "\nA data.frame: 1 × 5\n\n| <!--/--> | species &lt;chr&gt; | diameter &lt;dbl&gt; | height &lt;dbl&gt; | leafarea &lt;dbl&gt; | branchmass &lt;dbl&gt; |\n|---|---|---|---|---|---|\n| 1 | PSME | 54.61 | 27.04 | 338.49 | 410.25 |\n\n",
            "text/latex": "A data.frame: 1 × 5\n\\begin{tabular}{r|lllll}\n  & species & diameter & height & leafarea & branchmass\\\\\n  & <chr> & <dbl> & <dbl> & <dbl> & <dbl>\\\\\n\\hline\n\t1 & PSME & 54.61 & 27.04 & 338.49 & 410.25\\\\\n\\end{tabular}\n",
            "text/plain": [
              "  species diameter height leafarea branchmass\n",
              "1 PSME    54.61    27.04  338.49   410.25    "
            ]
          },
          "metadata": {}
        }
      ]
    },
    {
      "cell_type": "code",
      "source": [
        "df[['height']]"
      ],
      "metadata": {
        "colab": {
          "base_uri": "https://localhost:8080/",
          "height": 69
        },
        "id": "YUEAm512HygY",
        "outputId": "559ac4b1-753a-4e5e-d458-78928c9785f0"
      },
      "execution_count": 160,
      "outputs": [
        {
          "output_type": "display_data",
          "data": {
            "text/html": [
              "<style>\n",
              ".list-inline {list-style: none; margin:0; padding: 0}\n",
              ".list-inline>li {display: inline-block}\n",
              ".list-inline>li:not(:last-child)::after {content: \"\\00b7\"; padding: 0 .5ex}\n",
              "</style>\n",
              "<ol class=list-inline><li>27.04</li><li>27.42</li><li>26</li><li>24.96</li><li>29.99</li><li>28.07</li><li>26</li><li>26</li><li>30.1</li><li>25.85</li><li>31.83</li><li>31.35</li><li>32.61</li><li>31.7</li><li>30.18</li><li>4.95</li><li>5.26</li><li>5.58</li><li>6.47</li><li>26</li><li>33.3</li><li>19.39</li><li>39.37</li><li>35.81</li><li>20.8</li><li>29.11</li><li>22.4</li><li>27.69</li><li>35.58</li><li>26</li><li>41.16</li><li>23.34</li><li>25.94</li><li>25.11</li><li>30.39</li><li>28.4</li><li>23.38</li><li>31.73</li><li>7.36</li><li>3.57</li><li>31.93</li><li>6.92</li><li>5.85</li><li>35.14</li><li>39.84</li><li>40.66</li><li>38.89</li><li>36.24</li><li>23.13</li><li>37.59</li><li>21.29</li><li>13.44</li><li>26</li><li>29.05</li><li>35.52</li><li>5.42</li><li>34.56</li><li>44.64</li><li>22.59</li><li>44.99</li><li>40.23</li><li>12.98</li><li>4.95</li></ol>\n"
            ],
            "text/markdown": "1. 27.04\n2. 27.42\n3. 26\n4. 24.96\n5. 29.99\n6. 28.07\n7. 26\n8. 26\n9. 30.1\n10. 25.85\n11. 31.83\n12. 31.35\n13. 32.61\n14. 31.7\n15. 30.18\n16. 4.95\n17. 5.26\n18. 5.58\n19. 6.47\n20. 26\n21. 33.3\n22. 19.39\n23. 39.37\n24. 35.81\n25. 20.8\n26. 29.11\n27. 22.4\n28. 27.69\n29. 35.58\n30. 26\n31. 41.16\n32. 23.34\n33. 25.94\n34. 25.11\n35. 30.39\n36. 28.4\n37. 23.38\n38. 31.73\n39. 7.36\n40. 3.57\n41. 31.93\n42. 6.92\n43. 5.85\n44. 35.14\n45. 39.84\n46. 40.66\n47. 38.89\n48. 36.24\n49. 23.13\n50. 37.59\n51. 21.29\n52. 13.44\n53. 26\n54. 29.05\n55. 35.52\n56. 5.42\n57. 34.56\n58. 44.64\n59. 22.59\n60. 44.99\n61. 40.23\n62. 12.98\n63. 4.95\n\n\n",
            "text/latex": "\\begin{enumerate*}\n\\item 27.04\n\\item 27.42\n\\item 26\n\\item 24.96\n\\item 29.99\n\\item 28.07\n\\item 26\n\\item 26\n\\item 30.1\n\\item 25.85\n\\item 31.83\n\\item 31.35\n\\item 32.61\n\\item 31.7\n\\item 30.18\n\\item 4.95\n\\item 5.26\n\\item 5.58\n\\item 6.47\n\\item 26\n\\item 33.3\n\\item 19.39\n\\item 39.37\n\\item 35.81\n\\item 20.8\n\\item 29.11\n\\item 22.4\n\\item 27.69\n\\item 35.58\n\\item 26\n\\item 41.16\n\\item 23.34\n\\item 25.94\n\\item 25.11\n\\item 30.39\n\\item 28.4\n\\item 23.38\n\\item 31.73\n\\item 7.36\n\\item 3.57\n\\item 31.93\n\\item 6.92\n\\item 5.85\n\\item 35.14\n\\item 39.84\n\\item 40.66\n\\item 38.89\n\\item 36.24\n\\item 23.13\n\\item 37.59\n\\item 21.29\n\\item 13.44\n\\item 26\n\\item 29.05\n\\item 35.52\n\\item 5.42\n\\item 34.56\n\\item 44.64\n\\item 22.59\n\\item 44.99\n\\item 40.23\n\\item 12.98\n\\item 4.95\n\\end{enumerate*}\n",
            "text/plain": [
              " [1] 27.04 27.42 26.00 24.96 29.99 28.07 26.00 26.00 30.10 25.85 31.83 31.35\n",
              "[13] 32.61 31.70 30.18  4.95  5.26  5.58  6.47 26.00 33.30 19.39 39.37 35.81\n",
              "[25] 20.80 29.11 22.40 27.69 35.58 26.00 41.16 23.34 25.94 25.11 30.39 28.40\n",
              "[37] 23.38 31.73  7.36  3.57 31.93  6.92  5.85 35.14 39.84 40.66 38.89 36.24\n",
              "[49] 23.13 37.59 21.29 13.44 26.00 29.05 35.52  5.42 34.56 44.64 22.59 44.99\n",
              "[61] 40.23 12.98  4.95"
            ]
          },
          "metadata": {}
        }
      ]
    },
    {
      "cell_type": "code",
      "source": [
        "head(df['height'])"
      ],
      "metadata": {
        "colab": {
          "base_uri": "https://localhost:8080/",
          "height": 320
        },
        "id": "vAD6_pw8H7rk",
        "outputId": "646f8c50-3159-423d-9504-827105a5a997"
      },
      "execution_count": 162,
      "outputs": [
        {
          "output_type": "display_data",
          "data": {
            "text/html": [
              "<table class=\"dataframe\">\n",
              "<caption>A data.frame: 6 × 1</caption>\n",
              "<thead>\n",
              "\t<tr><th></th><th scope=col>height</th></tr>\n",
              "\t<tr><th></th><th scope=col>&lt;dbl&gt;</th></tr>\n",
              "</thead>\n",
              "<tbody>\n",
              "\t<tr><th scope=row>1</th><td>27.04</td></tr>\n",
              "\t<tr><th scope=row>2</th><td>27.42</td></tr>\n",
              "\t<tr><th scope=row>3</th><td>26.00</td></tr>\n",
              "\t<tr><th scope=row>4</th><td>24.96</td></tr>\n",
              "\t<tr><th scope=row>5</th><td>29.99</td></tr>\n",
              "\t<tr><th scope=row>6</th><td>28.07</td></tr>\n",
              "</tbody>\n",
              "</table>\n"
            ],
            "text/markdown": "\nA data.frame: 6 × 1\n\n| <!--/--> | height &lt;dbl&gt; |\n|---|---|\n| 1 | 27.04 |\n| 2 | 27.42 |\n| 3 | 26.00 |\n| 4 | 24.96 |\n| 5 | 29.99 |\n| 6 | 28.07 |\n\n",
            "text/latex": "A data.frame: 6 × 1\n\\begin{tabular}{r|l}\n  & height\\\\\n  & <dbl>\\\\\n\\hline\n\t1 & 27.04\\\\\n\t2 & 27.42\\\\\n\t3 & 26.00\\\\\n\t4 & 24.96\\\\\n\t5 & 29.99\\\\\n\t6 & 28.07\\\\\n\\end{tabular}\n",
            "text/plain": [
              "  height\n",
              "1 27.04 \n",
              "2 27.42 \n",
              "3 26.00 \n",
              "4 24.96 \n",
              "5 29.99 \n",
              "6 28.07 "
            ]
          },
          "metadata": {}
        }
      ]
    },
    {
      "cell_type": "code",
      "source": [
        "head(df[,'height'])"
      ],
      "metadata": {
        "colab": {
          "base_uri": "https://localhost:8080/",
          "height": 34
        },
        "id": "sgVp8aARH7kU",
        "outputId": "7324ef96-01dd-48d1-d08c-454b2989717f"
      },
      "execution_count": 166,
      "outputs": [
        {
          "output_type": "display_data",
          "data": {
            "text/html": [
              "<style>\n",
              ".list-inline {list-style: none; margin:0; padding: 0}\n",
              ".list-inline>li {display: inline-block}\n",
              ".list-inline>li:not(:last-child)::after {content: \"\\00b7\"; padding: 0 .5ex}\n",
              "</style>\n",
              "<ol class=list-inline><li>27.04</li><li>27.42</li><li>26</li><li>24.96</li><li>29.99</li><li>28.07</li></ol>\n"
            ],
            "text/markdown": "1. 27.04\n2. 27.42\n3. 26\n4. 24.96\n5. 29.99\n6. 28.07\n\n\n",
            "text/latex": "\\begin{enumerate*}\n\\item 27.04\n\\item 27.42\n\\item 26\n\\item 24.96\n\\item 29.99\n\\item 28.07\n\\end{enumerate*}\n",
            "text/plain": [
              "[1] 27.04 27.42 26.00 24.96 29.99 28.07"
            ]
          },
          "metadata": {}
        }
      ]
    },
    {
      "cell_type": "code",
      "source": [
        "# delet column number 1\n",
        "df[,c(-1)]"
      ],
      "metadata": {
        "colab": {
          "base_uri": "https://localhost:8080/",
          "height": 1000
        },
        "id": "X4FXmGRZ4fTJ",
        "outputId": "ebb3f0ff-c7d7-4534-c018-278abcf613fa"
      },
      "execution_count": 155,
      "outputs": [
        {
          "output_type": "display_data",
          "data": {
            "text/html": [
              "<table class=\"dataframe\">\n",
              "<caption>A data.frame: 63 × 4</caption>\n",
              "<thead>\n",
              "\t<tr><th scope=col>diameter</th><th scope=col>height</th><th scope=col>leafarea</th><th scope=col>branchmass</th></tr>\n",
              "\t<tr><th scope=col>&lt;dbl&gt;</th><th scope=col>&lt;dbl&gt;</th><th scope=col>&lt;dbl&gt;</th><th scope=col>&lt;dbl&gt;</th></tr>\n",
              "</thead>\n",
              "<tbody>\n",
              "\t<tr><td>54.61</td><td>27.04</td><td>338.49</td><td>410.25</td></tr>\n",
              "\t<tr><td>34.80</td><td>27.42</td><td>122.16</td><td> 83.65</td></tr>\n",
              "\t<tr><td>24.89</td><td>26.00</td><td>  3.96</td><td>  3.51</td></tr>\n",
              "\t<tr><td>28.70</td><td>24.96</td><td> 86.35</td><td> 73.13</td></tr>\n",
              "\t<tr><td>34.80</td><td>29.99</td><td> 63.35</td><td> 62.39</td></tr>\n",
              "\t<tr><td>37.85</td><td>28.07</td><td> 61.37</td><td> 53.87</td></tr>\n",
              "\t<tr><td>22.61</td><td>26.00</td><td> 32.08</td><td> 22.22</td></tr>\n",
              "\t<tr><td>39.37</td><td>26.00</td><td>147.27</td><td>119.39</td></tr>\n",
              "\t<tr><td>39.88</td><td>30.10</td><td>141.79</td><td> 95.59</td></tr>\n",
              "\t<tr><td>26.16</td><td>25.85</td><td> 45.02</td><td> 45.33</td></tr>\n",
              "\t<tr><td>43.69</td><td>31.83</td><td>145.81</td><td> 96.32</td></tr>\n",
              "\t<tr><td>69.85</td><td>31.35</td><td>349.06</td><td>543.97</td></tr>\n",
              "\t<tr><td>44.45</td><td>32.61</td><td>176.03</td><td>110.12</td></tr>\n",
              "\t<tr><td>56.64</td><td>31.70</td><td>319.51</td><td>260.49</td></tr>\n",
              "\t<tr><td>54.61</td><td>30.18</td><td>234.37</td><td>281.12</td></tr>\n",
              "\t<tr><td> 5.33</td><td> 4.95</td><td>  4.85</td><td>  2.67</td></tr>\n",
              "\t<tr><td> 6.10</td><td> 5.26</td><td>  7.60</td><td>  3.57</td></tr>\n",
              "\t<tr><td> 7.37</td><td> 5.58</td><td> 11.50</td><td>  4.59</td></tr>\n",
              "\t<tr><td> 8.33</td><td> 6.47</td><td> 25.38</td><td>  8.64</td></tr>\n",
              "\t<tr><td>13.51</td><td>26.00</td><td> 65.70</td><td> 34.94</td></tr>\n",
              "\t<tr><td>51.31</td><td>33.30</td><td>160.84</td><td>165.06</td></tr>\n",
              "\t<tr><td>22.35</td><td>19.39</td><td> 31.78</td><td> 35.65</td></tr>\n",
              "\t<tr><td>69.60</td><td>39.37</td><td>189.73</td><td>452.42</td></tr>\n",
              "\t<tr><td>58.42</td><td>35.81</td><td>253.31</td><td>595.64</td></tr>\n",
              "\t<tr><td>33.27</td><td>20.80</td><td> 91.54</td><td>160.44</td></tr>\n",
              "\t<tr><td>44.20</td><td>29.11</td><td> 90.45</td><td>149.73</td></tr>\n",
              "\t<tr><td>30.48</td><td>22.40</td><td> 99.74</td><td> 44.14</td></tr>\n",
              "\t<tr><td>27.43</td><td>27.69</td><td> 34.46</td><td> 22.98</td></tr>\n",
              "\t<tr><td>43.18</td><td>35.58</td><td> 68.15</td><td>106.40</td></tr>\n",
              "\t<tr><td>38.86</td><td>26.00</td><td> 46.33</td><td> 58.24</td></tr>\n",
              "\t<tr><td>⋮</td><td>⋮</td><td>⋮</td><td>⋮</td></tr>\n",
              "\t<tr><td>24.89</td><td>25.11</td><td> 21.65</td><td>  16.77</td></tr>\n",
              "\t<tr><td>45.97</td><td>30.39</td><td> 66.63</td><td>  87.37</td></tr>\n",
              "\t<tr><td>35.05</td><td>28.40</td><td> 54.27</td><td>  51.09</td></tr>\n",
              "\t<tr><td>23.88</td><td>23.38</td><td> 19.84</td><td>  13.98</td></tr>\n",
              "\t<tr><td>60.20</td><td>31.73</td><td>131.73</td><td> 408.34</td></tr>\n",
              "\t<tr><td>12.45</td><td> 7.36</td><td> 22.37</td><td>  16.99</td></tr>\n",
              "\t<tr><td> 4.83</td><td> 3.57</td><td>  2.64</td><td>   1.78</td></tr>\n",
              "\t<tr><td>70.61</td><td>31.93</td><td>411.16</td><td>1182.42</td></tr>\n",
              "\t<tr><td>11.43</td><td> 6.92</td><td> 15.48</td><td>   9.25</td></tr>\n",
              "\t<tr><td>11.94</td><td> 5.85</td><td> 14.49</td><td>   7.56</td></tr>\n",
              "\t<tr><td>60.20</td><td>35.14</td><td>169.05</td><td> 658.24</td></tr>\n",
              "\t<tr><td>60.71</td><td>39.84</td><td>139.65</td><td> 139.26</td></tr>\n",
              "\t<tr><td>70.61</td><td>40.66</td><td>376.31</td><td> 541.31</td></tr>\n",
              "\t<tr><td>57.66</td><td>38.89</td><td>417.21</td><td> 310.57</td></tr>\n",
              "\t<tr><td>43.13</td><td>36.24</td><td>103.67</td><td> 100.40</td></tr>\n",
              "\t<tr><td>18.29</td><td>23.13</td><td> 33.71</td><td>  14.49</td></tr>\n",
              "\t<tr><td>43.43</td><td>37.59</td><td>116.15</td><td> 108.45</td></tr>\n",
              "\t<tr><td>18.54</td><td>21.29</td><td> 44.93</td><td>  16.54</td></tr>\n",
              "\t<tr><td>12.95</td><td>13.44</td><td> 18.86</td><td>   8.71</td></tr>\n",
              "\t<tr><td>37.85</td><td>26.00</td><td>154.08</td><td>  72.03</td></tr>\n",
              "\t<tr><td>26.92</td><td>29.05</td><td> 70.60</td><td>  35.87</td></tr>\n",
              "\t<tr><td>38.61</td><td>35.52</td><td>169.16</td><td> 114.06</td></tr>\n",
              "\t<tr><td> 6.48</td><td> 5.42</td><td>  7.65</td><td>   3.51</td></tr>\n",
              "\t<tr><td>31.75</td><td>34.56</td><td> 93.07</td><td>  44.73</td></tr>\n",
              "\t<tr><td>73.66</td><td>44.64</td><td>277.49</td><td> 275.72</td></tr>\n",
              "\t<tr><td>28.19</td><td>22.59</td><td>131.86</td><td>  91.76</td></tr>\n",
              "\t<tr><td>61.47</td><td>44.99</td><td>121.43</td><td> 199.86</td></tr>\n",
              "\t<tr><td>51.56</td><td>40.23</td><td>212.44</td><td> 220.56</td></tr>\n",
              "\t<tr><td>18.29</td><td>12.98</td><td> 82.09</td><td>  28.05</td></tr>\n",
              "\t<tr><td> 8.38</td><td> 4.95</td><td>  6.55</td><td>   4.37</td></tr>\n",
              "</tbody>\n",
              "</table>\n"
            ],
            "text/markdown": "\nA data.frame: 63 × 4\n\n| diameter &lt;dbl&gt; | height &lt;dbl&gt; | leafarea &lt;dbl&gt; | branchmass &lt;dbl&gt; |\n|---|---|---|---|\n| 54.61 | 27.04 | 338.49 | 410.25 |\n| 34.80 | 27.42 | 122.16 |  83.65 |\n| 24.89 | 26.00 |   3.96 |   3.51 |\n| 28.70 | 24.96 |  86.35 |  73.13 |\n| 34.80 | 29.99 |  63.35 |  62.39 |\n| 37.85 | 28.07 |  61.37 |  53.87 |\n| 22.61 | 26.00 |  32.08 |  22.22 |\n| 39.37 | 26.00 | 147.27 | 119.39 |\n| 39.88 | 30.10 | 141.79 |  95.59 |\n| 26.16 | 25.85 |  45.02 |  45.33 |\n| 43.69 | 31.83 | 145.81 |  96.32 |\n| 69.85 | 31.35 | 349.06 | 543.97 |\n| 44.45 | 32.61 | 176.03 | 110.12 |\n| 56.64 | 31.70 | 319.51 | 260.49 |\n| 54.61 | 30.18 | 234.37 | 281.12 |\n|  5.33 |  4.95 |   4.85 |   2.67 |\n|  6.10 |  5.26 |   7.60 |   3.57 |\n|  7.37 |  5.58 |  11.50 |   4.59 |\n|  8.33 |  6.47 |  25.38 |   8.64 |\n| 13.51 | 26.00 |  65.70 |  34.94 |\n| 51.31 | 33.30 | 160.84 | 165.06 |\n| 22.35 | 19.39 |  31.78 |  35.65 |\n| 69.60 | 39.37 | 189.73 | 452.42 |\n| 58.42 | 35.81 | 253.31 | 595.64 |\n| 33.27 | 20.80 |  91.54 | 160.44 |\n| 44.20 | 29.11 |  90.45 | 149.73 |\n| 30.48 | 22.40 |  99.74 |  44.14 |\n| 27.43 | 27.69 |  34.46 |  22.98 |\n| 43.18 | 35.58 |  68.15 | 106.40 |\n| 38.86 | 26.00 |  46.33 |  58.24 |\n| ⋮ | ⋮ | ⋮ | ⋮ |\n| 24.89 | 25.11 |  21.65 |   16.77 |\n| 45.97 | 30.39 |  66.63 |   87.37 |\n| 35.05 | 28.40 |  54.27 |   51.09 |\n| 23.88 | 23.38 |  19.84 |   13.98 |\n| 60.20 | 31.73 | 131.73 |  408.34 |\n| 12.45 |  7.36 |  22.37 |   16.99 |\n|  4.83 |  3.57 |   2.64 |    1.78 |\n| 70.61 | 31.93 | 411.16 | 1182.42 |\n| 11.43 |  6.92 |  15.48 |    9.25 |\n| 11.94 |  5.85 |  14.49 |    7.56 |\n| 60.20 | 35.14 | 169.05 |  658.24 |\n| 60.71 | 39.84 | 139.65 |  139.26 |\n| 70.61 | 40.66 | 376.31 |  541.31 |\n| 57.66 | 38.89 | 417.21 |  310.57 |\n| 43.13 | 36.24 | 103.67 |  100.40 |\n| 18.29 | 23.13 |  33.71 |   14.49 |\n| 43.43 | 37.59 | 116.15 |  108.45 |\n| 18.54 | 21.29 |  44.93 |   16.54 |\n| 12.95 | 13.44 |  18.86 |    8.71 |\n| 37.85 | 26.00 | 154.08 |   72.03 |\n| 26.92 | 29.05 |  70.60 |   35.87 |\n| 38.61 | 35.52 | 169.16 |  114.06 |\n|  6.48 |  5.42 |   7.65 |    3.51 |\n| 31.75 | 34.56 |  93.07 |   44.73 |\n| 73.66 | 44.64 | 277.49 |  275.72 |\n| 28.19 | 22.59 | 131.86 |   91.76 |\n| 61.47 | 44.99 | 121.43 |  199.86 |\n| 51.56 | 40.23 | 212.44 |  220.56 |\n| 18.29 | 12.98 |  82.09 |   28.05 |\n|  8.38 |  4.95 |   6.55 |    4.37 |\n\n",
            "text/latex": "A data.frame: 63 × 4\n\\begin{tabular}{llll}\n diameter & height & leafarea & branchmass\\\\\n <dbl> & <dbl> & <dbl> & <dbl>\\\\\n\\hline\n\t 54.61 & 27.04 & 338.49 & 410.25\\\\\n\t 34.80 & 27.42 & 122.16 &  83.65\\\\\n\t 24.89 & 26.00 &   3.96 &   3.51\\\\\n\t 28.70 & 24.96 &  86.35 &  73.13\\\\\n\t 34.80 & 29.99 &  63.35 &  62.39\\\\\n\t 37.85 & 28.07 &  61.37 &  53.87\\\\\n\t 22.61 & 26.00 &  32.08 &  22.22\\\\\n\t 39.37 & 26.00 & 147.27 & 119.39\\\\\n\t 39.88 & 30.10 & 141.79 &  95.59\\\\\n\t 26.16 & 25.85 &  45.02 &  45.33\\\\\n\t 43.69 & 31.83 & 145.81 &  96.32\\\\\n\t 69.85 & 31.35 & 349.06 & 543.97\\\\\n\t 44.45 & 32.61 & 176.03 & 110.12\\\\\n\t 56.64 & 31.70 & 319.51 & 260.49\\\\\n\t 54.61 & 30.18 & 234.37 & 281.12\\\\\n\t  5.33 &  4.95 &   4.85 &   2.67\\\\\n\t  6.10 &  5.26 &   7.60 &   3.57\\\\\n\t  7.37 &  5.58 &  11.50 &   4.59\\\\\n\t  8.33 &  6.47 &  25.38 &   8.64\\\\\n\t 13.51 & 26.00 &  65.70 &  34.94\\\\\n\t 51.31 & 33.30 & 160.84 & 165.06\\\\\n\t 22.35 & 19.39 &  31.78 &  35.65\\\\\n\t 69.60 & 39.37 & 189.73 & 452.42\\\\\n\t 58.42 & 35.81 & 253.31 & 595.64\\\\\n\t 33.27 & 20.80 &  91.54 & 160.44\\\\\n\t 44.20 & 29.11 &  90.45 & 149.73\\\\\n\t 30.48 & 22.40 &  99.74 &  44.14\\\\\n\t 27.43 & 27.69 &  34.46 &  22.98\\\\\n\t 43.18 & 35.58 &  68.15 & 106.40\\\\\n\t 38.86 & 26.00 &  46.33 &  58.24\\\\\n\t ⋮ & ⋮ & ⋮ & ⋮\\\\\n\t 24.89 & 25.11 &  21.65 &   16.77\\\\\n\t 45.97 & 30.39 &  66.63 &   87.37\\\\\n\t 35.05 & 28.40 &  54.27 &   51.09\\\\\n\t 23.88 & 23.38 &  19.84 &   13.98\\\\\n\t 60.20 & 31.73 & 131.73 &  408.34\\\\\n\t 12.45 &  7.36 &  22.37 &   16.99\\\\\n\t  4.83 &  3.57 &   2.64 &    1.78\\\\\n\t 70.61 & 31.93 & 411.16 & 1182.42\\\\\n\t 11.43 &  6.92 &  15.48 &    9.25\\\\\n\t 11.94 &  5.85 &  14.49 &    7.56\\\\\n\t 60.20 & 35.14 & 169.05 &  658.24\\\\\n\t 60.71 & 39.84 & 139.65 &  139.26\\\\\n\t 70.61 & 40.66 & 376.31 &  541.31\\\\\n\t 57.66 & 38.89 & 417.21 &  310.57\\\\\n\t 43.13 & 36.24 & 103.67 &  100.40\\\\\n\t 18.29 & 23.13 &  33.71 &   14.49\\\\\n\t 43.43 & 37.59 & 116.15 &  108.45\\\\\n\t 18.54 & 21.29 &  44.93 &   16.54\\\\\n\t 12.95 & 13.44 &  18.86 &    8.71\\\\\n\t 37.85 & 26.00 & 154.08 &   72.03\\\\\n\t 26.92 & 29.05 &  70.60 &   35.87\\\\\n\t 38.61 & 35.52 & 169.16 &  114.06\\\\\n\t  6.48 &  5.42 &   7.65 &    3.51\\\\\n\t 31.75 & 34.56 &  93.07 &   44.73\\\\\n\t 73.66 & 44.64 & 277.49 &  275.72\\\\\n\t 28.19 & 22.59 & 131.86 &   91.76\\\\\n\t 61.47 & 44.99 & 121.43 &  199.86\\\\\n\t 51.56 & 40.23 & 212.44 &  220.56\\\\\n\t 18.29 & 12.98 &  82.09 &   28.05\\\\\n\t  8.38 &  4.95 &   6.55 &    4.37\\\\\n\\end{tabular}\n",
            "text/plain": [
              "   diameter height leafarea branchmass\n",
              "1  54.61    27.04  338.49   410.25    \n",
              "2  34.80    27.42  122.16    83.65    \n",
              "3  24.89    26.00    3.96     3.51    \n",
              "4  28.70    24.96   86.35    73.13    \n",
              "5  34.80    29.99   63.35    62.39    \n",
              "6  37.85    28.07   61.37    53.87    \n",
              "7  22.61    26.00   32.08    22.22    \n",
              "8  39.37    26.00  147.27   119.39    \n",
              "9  39.88    30.10  141.79    95.59    \n",
              "10 26.16    25.85   45.02    45.33    \n",
              "11 43.69    31.83  145.81    96.32    \n",
              "12 69.85    31.35  349.06   543.97    \n",
              "13 44.45    32.61  176.03   110.12    \n",
              "14 56.64    31.70  319.51   260.49    \n",
              "15 54.61    30.18  234.37   281.12    \n",
              "16  5.33     4.95    4.85     2.67    \n",
              "17  6.10     5.26    7.60     3.57    \n",
              "18  7.37     5.58   11.50     4.59    \n",
              "19  8.33     6.47   25.38     8.64    \n",
              "20 13.51    26.00   65.70    34.94    \n",
              "21 51.31    33.30  160.84   165.06    \n",
              "22 22.35    19.39   31.78    35.65    \n",
              "23 69.60    39.37  189.73   452.42    \n",
              "24 58.42    35.81  253.31   595.64    \n",
              "25 33.27    20.80   91.54   160.44    \n",
              "26 44.20    29.11   90.45   149.73    \n",
              "27 30.48    22.40   99.74    44.14    \n",
              "28 27.43    27.69   34.46    22.98    \n",
              "29 43.18    35.58   68.15   106.40    \n",
              "30 38.86    26.00   46.33    58.24    \n",
              "⋮  ⋮        ⋮      ⋮        ⋮         \n",
              "34 24.89    25.11   21.65     16.77   \n",
              "35 45.97    30.39   66.63     87.37   \n",
              "36 35.05    28.40   54.27     51.09   \n",
              "37 23.88    23.38   19.84     13.98   \n",
              "38 60.20    31.73  131.73    408.34   \n",
              "39 12.45     7.36   22.37     16.99   \n",
              "40  4.83     3.57    2.64      1.78   \n",
              "41 70.61    31.93  411.16   1182.42   \n",
              "42 11.43     6.92   15.48      9.25   \n",
              "43 11.94     5.85   14.49      7.56   \n",
              "44 60.20    35.14  169.05    658.24   \n",
              "45 60.71    39.84  139.65    139.26   \n",
              "46 70.61    40.66  376.31    541.31   \n",
              "47 57.66    38.89  417.21    310.57   \n",
              "48 43.13    36.24  103.67    100.40   \n",
              "49 18.29    23.13   33.71     14.49   \n",
              "50 43.43    37.59  116.15    108.45   \n",
              "51 18.54    21.29   44.93     16.54   \n",
              "52 12.95    13.44   18.86      8.71   \n",
              "53 37.85    26.00  154.08     72.03   \n",
              "54 26.92    29.05   70.60     35.87   \n",
              "55 38.61    35.52  169.16    114.06   \n",
              "56  6.48     5.42    7.65      3.51   \n",
              "57 31.75    34.56   93.07     44.73   \n",
              "58 73.66    44.64  277.49    275.72   \n",
              "59 28.19    22.59  131.86     91.76   \n",
              "60 61.47    44.99  121.43    199.86   \n",
              "61 51.56    40.23  212.44    220.56   \n",
              "62 18.29    12.98   82.09     28.05   \n",
              "63  8.38     4.95    6.55      4.37   "
            ]
          },
          "metadata": {}
        }
      ]
    },
    {
      "cell_type": "code",
      "source": [
        "# delet row number 1\n",
        "df[c(-1),]"
      ],
      "metadata": {
        "colab": {
          "base_uri": "https://localhost:8080/",
          "height": 1000
        },
        "id": "RgTAHzb55Zcu",
        "outputId": "e82b7aa5-f35e-4c20-a6b5-e1bf3f905896"
      },
      "execution_count": 156,
      "outputs": [
        {
          "output_type": "display_data",
          "data": {
            "text/html": [
              "<table class=\"dataframe\">\n",
              "<caption>A data.frame: 62 × 5</caption>\n",
              "<thead>\n",
              "\t<tr><th></th><th scope=col>species</th><th scope=col>diameter</th><th scope=col>height</th><th scope=col>leafarea</th><th scope=col>branchmass</th></tr>\n",
              "\t<tr><th></th><th scope=col>&lt;chr&gt;</th><th scope=col>&lt;dbl&gt;</th><th scope=col>&lt;dbl&gt;</th><th scope=col>&lt;dbl&gt;</th><th scope=col>&lt;dbl&gt;</th></tr>\n",
              "</thead>\n",
              "<tbody>\n",
              "\t<tr><th scope=row>2</th><td>PSME</td><td>34.80</td><td>27.42</td><td>122.16</td><td> 83.65</td></tr>\n",
              "\t<tr><th scope=row>3</th><td>PSME</td><td>24.89</td><td>26.00</td><td>  3.96</td><td>  3.51</td></tr>\n",
              "\t<tr><th scope=row>4</th><td>PSME</td><td>28.70</td><td>24.96</td><td> 86.35</td><td> 73.13</td></tr>\n",
              "\t<tr><th scope=row>5</th><td>PSME</td><td>34.80</td><td>29.99</td><td> 63.35</td><td> 62.39</td></tr>\n",
              "\t<tr><th scope=row>6</th><td>PSME</td><td>37.85</td><td>28.07</td><td> 61.37</td><td> 53.87</td></tr>\n",
              "\t<tr><th scope=row>7</th><td>PSME</td><td>22.61</td><td>26.00</td><td> 32.08</td><td> 22.22</td></tr>\n",
              "\t<tr><th scope=row>8</th><td>PSME</td><td>39.37</td><td>26.00</td><td>147.27</td><td>119.39</td></tr>\n",
              "\t<tr><th scope=row>9</th><td>PSME</td><td>39.88</td><td>30.10</td><td>141.79</td><td> 95.59</td></tr>\n",
              "\t<tr><th scope=row>10</th><td>PSME</td><td>26.16</td><td>25.85</td><td> 45.02</td><td> 45.33</td></tr>\n",
              "\t<tr><th scope=row>11</th><td>PSME</td><td>43.69</td><td>31.83</td><td>145.81</td><td> 96.32</td></tr>\n",
              "\t<tr><th scope=row>12</th><td>PSME</td><td>69.85</td><td>31.35</td><td>349.06</td><td>543.97</td></tr>\n",
              "\t<tr><th scope=row>13</th><td>PSME</td><td>44.45</td><td>32.61</td><td>176.03</td><td>110.12</td></tr>\n",
              "\t<tr><th scope=row>14</th><td>PSME</td><td>56.64</td><td>31.70</td><td>319.51</td><td>260.49</td></tr>\n",
              "\t<tr><th scope=row>15</th><td>PSME</td><td>54.61</td><td>30.18</td><td>234.37</td><td>281.12</td></tr>\n",
              "\t<tr><th scope=row>16</th><td>PSME</td><td> 5.33</td><td> 4.95</td><td>  4.85</td><td>  2.67</td></tr>\n",
              "\t<tr><th scope=row>17</th><td>PSME</td><td> 6.10</td><td> 5.26</td><td>  7.60</td><td>  3.57</td></tr>\n",
              "\t<tr><th scope=row>18</th><td>PSME</td><td> 7.37</td><td> 5.58</td><td> 11.50</td><td>  4.59</td></tr>\n",
              "\t<tr><th scope=row>19</th><td>PSME</td><td> 8.33</td><td> 6.47</td><td> 25.38</td><td>  8.64</td></tr>\n",
              "\t<tr><th scope=row>20</th><td>PSME</td><td>13.51</td><td>26.00</td><td> 65.70</td><td> 34.94</td></tr>\n",
              "\t<tr><th scope=row>21</th><td>PSME</td><td>51.31</td><td>33.30</td><td>160.84</td><td>165.06</td></tr>\n",
              "\t<tr><th scope=row>22</th><td>PSME</td><td>22.35</td><td>19.39</td><td> 31.78</td><td> 35.65</td></tr>\n",
              "\t<tr><th scope=row>23</th><td>PIPO</td><td>69.60</td><td>39.37</td><td>189.73</td><td>452.42</td></tr>\n",
              "\t<tr><th scope=row>24</th><td>PIPO</td><td>58.42</td><td>35.81</td><td>253.31</td><td>595.64</td></tr>\n",
              "\t<tr><th scope=row>25</th><td>PIPO</td><td>33.27</td><td>20.80</td><td> 91.54</td><td>160.44</td></tr>\n",
              "\t<tr><th scope=row>26</th><td>PIPO</td><td>44.20</td><td>29.11</td><td> 90.45</td><td>149.73</td></tr>\n",
              "\t<tr><th scope=row>27</th><td>PIPO</td><td>30.48</td><td>22.40</td><td> 99.74</td><td> 44.14</td></tr>\n",
              "\t<tr><th scope=row>28</th><td>PIPO</td><td>27.43</td><td>27.69</td><td> 34.46</td><td> 22.98</td></tr>\n",
              "\t<tr><th scope=row>29</th><td>PIPO</td><td>43.18</td><td>35.58</td><td> 68.15</td><td>106.40</td></tr>\n",
              "\t<tr><th scope=row>30</th><td>PIPO</td><td>38.86</td><td>26.00</td><td> 46.33</td><td> 58.24</td></tr>\n",
              "\t<tr><th scope=row>31</th><td>PIPO</td><td>52.58</td><td>41.16</td><td>160.99</td><td>214.34</td></tr>\n",
              "\t<tr><th scope=row>⋮</th><td>⋮</td><td>⋮</td><td>⋮</td><td>⋮</td><td>⋮</td></tr>\n",
              "\t<tr><th scope=row>34</th><td>PIPO</td><td>24.89</td><td>25.11</td><td> 21.65</td><td>  16.77</td></tr>\n",
              "\t<tr><th scope=row>35</th><td>PIPO</td><td>45.97</td><td>30.39</td><td> 66.63</td><td>  87.37</td></tr>\n",
              "\t<tr><th scope=row>36</th><td>PIPO</td><td>35.05</td><td>28.40</td><td> 54.27</td><td>  51.09</td></tr>\n",
              "\t<tr><th scope=row>37</th><td>PIPO</td><td>23.88</td><td>23.38</td><td> 19.84</td><td>  13.98</td></tr>\n",
              "\t<tr><th scope=row>38</th><td>PIPO</td><td>60.20</td><td>31.73</td><td>131.73</td><td> 408.34</td></tr>\n",
              "\t<tr><th scope=row>39</th><td>PIPO</td><td>12.45</td><td> 7.36</td><td> 22.37</td><td>  16.99</td></tr>\n",
              "\t<tr><th scope=row>40</th><td>PIPO</td><td> 4.83</td><td> 3.57</td><td>  2.64</td><td>   1.78</td></tr>\n",
              "\t<tr><th scope=row>41</th><td>PIPO</td><td>70.61</td><td>31.93</td><td>411.16</td><td>1182.42</td></tr>\n",
              "\t<tr><th scope=row>42</th><td>PIPO</td><td>11.43</td><td> 6.92</td><td> 15.48</td><td>   9.25</td></tr>\n",
              "\t<tr><th scope=row>43</th><td>PIPO</td><td>11.94</td><td> 5.85</td><td> 14.49</td><td>   7.56</td></tr>\n",
              "\t<tr><th scope=row>44</th><td>PIPO</td><td>60.20</td><td>35.14</td><td>169.05</td><td> 658.24</td></tr>\n",
              "\t<tr><th scope=row>45</th><td>PIMO</td><td>60.71</td><td>39.84</td><td>139.65</td><td> 139.26</td></tr>\n",
              "\t<tr><th scope=row>46</th><td>PIMO</td><td>70.61</td><td>40.66</td><td>376.31</td><td> 541.31</td></tr>\n",
              "\t<tr><th scope=row>47</th><td>PIMO</td><td>57.66</td><td>38.89</td><td>417.21</td><td> 310.57</td></tr>\n",
              "\t<tr><th scope=row>48</th><td>PIMO</td><td>43.13</td><td>36.24</td><td>103.67</td><td> 100.40</td></tr>\n",
              "\t<tr><th scope=row>49</th><td>PIMO</td><td>18.29</td><td>23.13</td><td> 33.71</td><td>  14.49</td></tr>\n",
              "\t<tr><th scope=row>50</th><td>PIMO</td><td>43.43</td><td>37.59</td><td>116.15</td><td> 108.45</td></tr>\n",
              "\t<tr><th scope=row>51</th><td>PIMO</td><td>18.54</td><td>21.29</td><td> 44.93</td><td>  16.54</td></tr>\n",
              "\t<tr><th scope=row>52</th><td>PIMO</td><td>12.95</td><td>13.44</td><td> 18.86</td><td>   8.71</td></tr>\n",
              "\t<tr><th scope=row>53</th><td>PIMO</td><td>37.85</td><td>26.00</td><td>154.08</td><td>  72.03</td></tr>\n",
              "\t<tr><th scope=row>54</th><td>PIMO</td><td>26.92</td><td>29.05</td><td> 70.60</td><td>  35.87</td></tr>\n",
              "\t<tr><th scope=row>55</th><td>PIMO</td><td>38.61</td><td>35.52</td><td>169.16</td><td> 114.06</td></tr>\n",
              "\t<tr><th scope=row>56</th><td>PIMO</td><td> 6.48</td><td> 5.42</td><td>  7.65</td><td>   3.51</td></tr>\n",
              "\t<tr><th scope=row>57</th><td>PIMO</td><td>31.75</td><td>34.56</td><td> 93.07</td><td>  44.73</td></tr>\n",
              "\t<tr><th scope=row>58</th><td>PIMO</td><td>73.66</td><td>44.64</td><td>277.49</td><td> 275.72</td></tr>\n",
              "\t<tr><th scope=row>59</th><td>PIMO</td><td>28.19</td><td>22.59</td><td>131.86</td><td>  91.76</td></tr>\n",
              "\t<tr><th scope=row>60</th><td>PIMO</td><td>61.47</td><td>44.99</td><td>121.43</td><td> 199.86</td></tr>\n",
              "\t<tr><th scope=row>61</th><td>PIMO</td><td>51.56</td><td>40.23</td><td>212.44</td><td> 220.56</td></tr>\n",
              "\t<tr><th scope=row>62</th><td>PIMO</td><td>18.29</td><td>12.98</td><td> 82.09</td><td>  28.05</td></tr>\n",
              "\t<tr><th scope=row>63</th><td>PIMO</td><td> 8.38</td><td> 4.95</td><td>  6.55</td><td>   4.37</td></tr>\n",
              "</tbody>\n",
              "</table>\n"
            ],
            "text/markdown": "\nA data.frame: 62 × 5\n\n| <!--/--> | species &lt;chr&gt; | diameter &lt;dbl&gt; | height &lt;dbl&gt; | leafarea &lt;dbl&gt; | branchmass &lt;dbl&gt; |\n|---|---|---|---|---|---|\n| 2 | PSME | 34.80 | 27.42 | 122.16 |  83.65 |\n| 3 | PSME | 24.89 | 26.00 |   3.96 |   3.51 |\n| 4 | PSME | 28.70 | 24.96 |  86.35 |  73.13 |\n| 5 | PSME | 34.80 | 29.99 |  63.35 |  62.39 |\n| 6 | PSME | 37.85 | 28.07 |  61.37 |  53.87 |\n| 7 | PSME | 22.61 | 26.00 |  32.08 |  22.22 |\n| 8 | PSME | 39.37 | 26.00 | 147.27 | 119.39 |\n| 9 | PSME | 39.88 | 30.10 | 141.79 |  95.59 |\n| 10 | PSME | 26.16 | 25.85 |  45.02 |  45.33 |\n| 11 | PSME | 43.69 | 31.83 | 145.81 |  96.32 |\n| 12 | PSME | 69.85 | 31.35 | 349.06 | 543.97 |\n| 13 | PSME | 44.45 | 32.61 | 176.03 | 110.12 |\n| 14 | PSME | 56.64 | 31.70 | 319.51 | 260.49 |\n| 15 | PSME | 54.61 | 30.18 | 234.37 | 281.12 |\n| 16 | PSME |  5.33 |  4.95 |   4.85 |   2.67 |\n| 17 | PSME |  6.10 |  5.26 |   7.60 |   3.57 |\n| 18 | PSME |  7.37 |  5.58 |  11.50 |   4.59 |\n| 19 | PSME |  8.33 |  6.47 |  25.38 |   8.64 |\n| 20 | PSME | 13.51 | 26.00 |  65.70 |  34.94 |\n| 21 | PSME | 51.31 | 33.30 | 160.84 | 165.06 |\n| 22 | PSME | 22.35 | 19.39 |  31.78 |  35.65 |\n| 23 | PIPO | 69.60 | 39.37 | 189.73 | 452.42 |\n| 24 | PIPO | 58.42 | 35.81 | 253.31 | 595.64 |\n| 25 | PIPO | 33.27 | 20.80 |  91.54 | 160.44 |\n| 26 | PIPO | 44.20 | 29.11 |  90.45 | 149.73 |\n| 27 | PIPO | 30.48 | 22.40 |  99.74 |  44.14 |\n| 28 | PIPO | 27.43 | 27.69 |  34.46 |  22.98 |\n| 29 | PIPO | 43.18 | 35.58 |  68.15 | 106.40 |\n| 30 | PIPO | 38.86 | 26.00 |  46.33 |  58.24 |\n| 31 | PIPO | 52.58 | 41.16 | 160.99 | 214.34 |\n| ⋮ | ⋮ | ⋮ | ⋮ | ⋮ | ⋮ |\n| 34 | PIPO | 24.89 | 25.11 |  21.65 |   16.77 |\n| 35 | PIPO | 45.97 | 30.39 |  66.63 |   87.37 |\n| 36 | PIPO | 35.05 | 28.40 |  54.27 |   51.09 |\n| 37 | PIPO | 23.88 | 23.38 |  19.84 |   13.98 |\n| 38 | PIPO | 60.20 | 31.73 | 131.73 |  408.34 |\n| 39 | PIPO | 12.45 |  7.36 |  22.37 |   16.99 |\n| 40 | PIPO |  4.83 |  3.57 |   2.64 |    1.78 |\n| 41 | PIPO | 70.61 | 31.93 | 411.16 | 1182.42 |\n| 42 | PIPO | 11.43 |  6.92 |  15.48 |    9.25 |\n| 43 | PIPO | 11.94 |  5.85 |  14.49 |    7.56 |\n| 44 | PIPO | 60.20 | 35.14 | 169.05 |  658.24 |\n| 45 | PIMO | 60.71 | 39.84 | 139.65 |  139.26 |\n| 46 | PIMO | 70.61 | 40.66 | 376.31 |  541.31 |\n| 47 | PIMO | 57.66 | 38.89 | 417.21 |  310.57 |\n| 48 | PIMO | 43.13 | 36.24 | 103.67 |  100.40 |\n| 49 | PIMO | 18.29 | 23.13 |  33.71 |   14.49 |\n| 50 | PIMO | 43.43 | 37.59 | 116.15 |  108.45 |\n| 51 | PIMO | 18.54 | 21.29 |  44.93 |   16.54 |\n| 52 | PIMO | 12.95 | 13.44 |  18.86 |    8.71 |\n| 53 | PIMO | 37.85 | 26.00 | 154.08 |   72.03 |\n| 54 | PIMO | 26.92 | 29.05 |  70.60 |   35.87 |\n| 55 | PIMO | 38.61 | 35.52 | 169.16 |  114.06 |\n| 56 | PIMO |  6.48 |  5.42 |   7.65 |    3.51 |\n| 57 | PIMO | 31.75 | 34.56 |  93.07 |   44.73 |\n| 58 | PIMO | 73.66 | 44.64 | 277.49 |  275.72 |\n| 59 | PIMO | 28.19 | 22.59 | 131.86 |   91.76 |\n| 60 | PIMO | 61.47 | 44.99 | 121.43 |  199.86 |\n| 61 | PIMO | 51.56 | 40.23 | 212.44 |  220.56 |\n| 62 | PIMO | 18.29 | 12.98 |  82.09 |   28.05 |\n| 63 | PIMO |  8.38 |  4.95 |   6.55 |    4.37 |\n\n",
            "text/latex": "A data.frame: 62 × 5\n\\begin{tabular}{r|lllll}\n  & species & diameter & height & leafarea & branchmass\\\\\n  & <chr> & <dbl> & <dbl> & <dbl> & <dbl>\\\\\n\\hline\n\t2 & PSME & 34.80 & 27.42 & 122.16 &  83.65\\\\\n\t3 & PSME & 24.89 & 26.00 &   3.96 &   3.51\\\\\n\t4 & PSME & 28.70 & 24.96 &  86.35 &  73.13\\\\\n\t5 & PSME & 34.80 & 29.99 &  63.35 &  62.39\\\\\n\t6 & PSME & 37.85 & 28.07 &  61.37 &  53.87\\\\\n\t7 & PSME & 22.61 & 26.00 &  32.08 &  22.22\\\\\n\t8 & PSME & 39.37 & 26.00 & 147.27 & 119.39\\\\\n\t9 & PSME & 39.88 & 30.10 & 141.79 &  95.59\\\\\n\t10 & PSME & 26.16 & 25.85 &  45.02 &  45.33\\\\\n\t11 & PSME & 43.69 & 31.83 & 145.81 &  96.32\\\\\n\t12 & PSME & 69.85 & 31.35 & 349.06 & 543.97\\\\\n\t13 & PSME & 44.45 & 32.61 & 176.03 & 110.12\\\\\n\t14 & PSME & 56.64 & 31.70 & 319.51 & 260.49\\\\\n\t15 & PSME & 54.61 & 30.18 & 234.37 & 281.12\\\\\n\t16 & PSME &  5.33 &  4.95 &   4.85 &   2.67\\\\\n\t17 & PSME &  6.10 &  5.26 &   7.60 &   3.57\\\\\n\t18 & PSME &  7.37 &  5.58 &  11.50 &   4.59\\\\\n\t19 & PSME &  8.33 &  6.47 &  25.38 &   8.64\\\\\n\t20 & PSME & 13.51 & 26.00 &  65.70 &  34.94\\\\\n\t21 & PSME & 51.31 & 33.30 & 160.84 & 165.06\\\\\n\t22 & PSME & 22.35 & 19.39 &  31.78 &  35.65\\\\\n\t23 & PIPO & 69.60 & 39.37 & 189.73 & 452.42\\\\\n\t24 & PIPO & 58.42 & 35.81 & 253.31 & 595.64\\\\\n\t25 & PIPO & 33.27 & 20.80 &  91.54 & 160.44\\\\\n\t26 & PIPO & 44.20 & 29.11 &  90.45 & 149.73\\\\\n\t27 & PIPO & 30.48 & 22.40 &  99.74 &  44.14\\\\\n\t28 & PIPO & 27.43 & 27.69 &  34.46 &  22.98\\\\\n\t29 & PIPO & 43.18 & 35.58 &  68.15 & 106.40\\\\\n\t30 & PIPO & 38.86 & 26.00 &  46.33 &  58.24\\\\\n\t31 & PIPO & 52.58 & 41.16 & 160.99 & 214.34\\\\\n\t⋮ & ⋮ & ⋮ & ⋮ & ⋮ & ⋮\\\\\n\t34 & PIPO & 24.89 & 25.11 &  21.65 &   16.77\\\\\n\t35 & PIPO & 45.97 & 30.39 &  66.63 &   87.37\\\\\n\t36 & PIPO & 35.05 & 28.40 &  54.27 &   51.09\\\\\n\t37 & PIPO & 23.88 & 23.38 &  19.84 &   13.98\\\\\n\t38 & PIPO & 60.20 & 31.73 & 131.73 &  408.34\\\\\n\t39 & PIPO & 12.45 &  7.36 &  22.37 &   16.99\\\\\n\t40 & PIPO &  4.83 &  3.57 &   2.64 &    1.78\\\\\n\t41 & PIPO & 70.61 & 31.93 & 411.16 & 1182.42\\\\\n\t42 & PIPO & 11.43 &  6.92 &  15.48 &    9.25\\\\\n\t43 & PIPO & 11.94 &  5.85 &  14.49 &    7.56\\\\\n\t44 & PIPO & 60.20 & 35.14 & 169.05 &  658.24\\\\\n\t45 & PIMO & 60.71 & 39.84 & 139.65 &  139.26\\\\\n\t46 & PIMO & 70.61 & 40.66 & 376.31 &  541.31\\\\\n\t47 & PIMO & 57.66 & 38.89 & 417.21 &  310.57\\\\\n\t48 & PIMO & 43.13 & 36.24 & 103.67 &  100.40\\\\\n\t49 & PIMO & 18.29 & 23.13 &  33.71 &   14.49\\\\\n\t50 & PIMO & 43.43 & 37.59 & 116.15 &  108.45\\\\\n\t51 & PIMO & 18.54 & 21.29 &  44.93 &   16.54\\\\\n\t52 & PIMO & 12.95 & 13.44 &  18.86 &    8.71\\\\\n\t53 & PIMO & 37.85 & 26.00 & 154.08 &   72.03\\\\\n\t54 & PIMO & 26.92 & 29.05 &  70.60 &   35.87\\\\\n\t55 & PIMO & 38.61 & 35.52 & 169.16 &  114.06\\\\\n\t56 & PIMO &  6.48 &  5.42 &   7.65 &    3.51\\\\\n\t57 & PIMO & 31.75 & 34.56 &  93.07 &   44.73\\\\\n\t58 & PIMO & 73.66 & 44.64 & 277.49 &  275.72\\\\\n\t59 & PIMO & 28.19 & 22.59 & 131.86 &   91.76\\\\\n\t60 & PIMO & 61.47 & 44.99 & 121.43 &  199.86\\\\\n\t61 & PIMO & 51.56 & 40.23 & 212.44 &  220.56\\\\\n\t62 & PIMO & 18.29 & 12.98 &  82.09 &   28.05\\\\\n\t63 & PIMO &  8.38 &  4.95 &   6.55 &    4.37\\\\\n\\end{tabular}\n",
            "text/plain": [
              "   species diameter height leafarea branchmass\n",
              "2  PSME    34.80    27.42  122.16    83.65    \n",
              "3  PSME    24.89    26.00    3.96     3.51    \n",
              "4  PSME    28.70    24.96   86.35    73.13    \n",
              "5  PSME    34.80    29.99   63.35    62.39    \n",
              "6  PSME    37.85    28.07   61.37    53.87    \n",
              "7  PSME    22.61    26.00   32.08    22.22    \n",
              "8  PSME    39.37    26.00  147.27   119.39    \n",
              "9  PSME    39.88    30.10  141.79    95.59    \n",
              "10 PSME    26.16    25.85   45.02    45.33    \n",
              "11 PSME    43.69    31.83  145.81    96.32    \n",
              "12 PSME    69.85    31.35  349.06   543.97    \n",
              "13 PSME    44.45    32.61  176.03   110.12    \n",
              "14 PSME    56.64    31.70  319.51   260.49    \n",
              "15 PSME    54.61    30.18  234.37   281.12    \n",
              "16 PSME     5.33     4.95    4.85     2.67    \n",
              "17 PSME     6.10     5.26    7.60     3.57    \n",
              "18 PSME     7.37     5.58   11.50     4.59    \n",
              "19 PSME     8.33     6.47   25.38     8.64    \n",
              "20 PSME    13.51    26.00   65.70    34.94    \n",
              "21 PSME    51.31    33.30  160.84   165.06    \n",
              "22 PSME    22.35    19.39   31.78    35.65    \n",
              "23 PIPO    69.60    39.37  189.73   452.42    \n",
              "24 PIPO    58.42    35.81  253.31   595.64    \n",
              "25 PIPO    33.27    20.80   91.54   160.44    \n",
              "26 PIPO    44.20    29.11   90.45   149.73    \n",
              "27 PIPO    30.48    22.40   99.74    44.14    \n",
              "28 PIPO    27.43    27.69   34.46    22.98    \n",
              "29 PIPO    43.18    35.58   68.15   106.40    \n",
              "30 PIPO    38.86    26.00   46.33    58.24    \n",
              "31 PIPO    52.58    41.16  160.99   214.34    \n",
              "⋮  ⋮       ⋮        ⋮      ⋮        ⋮         \n",
              "34 PIPO    24.89    25.11   21.65     16.77   \n",
              "35 PIPO    45.97    30.39   66.63     87.37   \n",
              "36 PIPO    35.05    28.40   54.27     51.09   \n",
              "37 PIPO    23.88    23.38   19.84     13.98   \n",
              "38 PIPO    60.20    31.73  131.73    408.34   \n",
              "39 PIPO    12.45     7.36   22.37     16.99   \n",
              "40 PIPO     4.83     3.57    2.64      1.78   \n",
              "41 PIPO    70.61    31.93  411.16   1182.42   \n",
              "42 PIPO    11.43     6.92   15.48      9.25   \n",
              "43 PIPO    11.94     5.85   14.49      7.56   \n",
              "44 PIPO    60.20    35.14  169.05    658.24   \n",
              "45 PIMO    60.71    39.84  139.65    139.26   \n",
              "46 PIMO    70.61    40.66  376.31    541.31   \n",
              "47 PIMO    57.66    38.89  417.21    310.57   \n",
              "48 PIMO    43.13    36.24  103.67    100.40   \n",
              "49 PIMO    18.29    23.13   33.71     14.49   \n",
              "50 PIMO    43.43    37.59  116.15    108.45   \n",
              "51 PIMO    18.54    21.29   44.93     16.54   \n",
              "52 PIMO    12.95    13.44   18.86      8.71   \n",
              "53 PIMO    37.85    26.00  154.08     72.03   \n",
              "54 PIMO    26.92    29.05   70.60     35.87   \n",
              "55 PIMO    38.61    35.52  169.16    114.06   \n",
              "56 PIMO     6.48     5.42    7.65      3.51   \n",
              "57 PIMO    31.75    34.56   93.07     44.73   \n",
              "58 PIMO    73.66    44.64  277.49    275.72   \n",
              "59 PIMO    28.19    22.59  131.86     91.76   \n",
              "60 PIMO    61.47    44.99  121.43    199.86   \n",
              "61 PIMO    51.56    40.23  212.44    220.56   \n",
              "62 PIMO    18.29    12.98   82.09     28.05   \n",
              "63 PIMO     8.38     4.95    6.55      4.37   "
            ]
          },
          "metadata": {}
        }
      ]
    },
    {
      "cell_type": "code",
      "source": [
        "colnames(df)"
      ],
      "metadata": {
        "colab": {
          "base_uri": "https://localhost:8080/",
          "height": 34
        },
        "id": "DpQW5wHQ5cVR",
        "outputId": "1a64b8b8-fcc3-4806-b615-1e38d8f008db"
      },
      "execution_count": 167,
      "outputs": [
        {
          "output_type": "display_data",
          "data": {
            "text/html": [
              "<style>\n",
              ".list-inline {list-style: none; margin:0; padding: 0}\n",
              ".list-inline>li {display: inline-block}\n",
              ".list-inline>li:not(:last-child)::after {content: \"\\00b7\"; padding: 0 .5ex}\n",
              "</style>\n",
              "<ol class=list-inline><li>'species'</li><li>'diameter'</li><li>'height'</li><li>'leafarea'</li><li>'branchmass'</li></ol>\n"
            ],
            "text/markdown": "1. 'species'\n2. 'diameter'\n3. 'height'\n4. 'leafarea'\n5. 'branchmass'\n\n\n",
            "text/latex": "\\begin{enumerate*}\n\\item 'species'\n\\item 'diameter'\n\\item 'height'\n\\item 'leafarea'\n\\item 'branchmass'\n\\end{enumerate*}\n",
            "text/plain": [
              "[1] \"species\"    \"diameter\"   \"height\"     \"leafarea\"   \"branchmass\""
            ]
          },
          "metadata": {}
        }
      ]
    },
    {
      "cell_type": "code",
      "source": [
        "# Bar chart of age distribution\n",
        "ggplot(df, aes(x = \"\", fill = species)) + \n",
        "  geom_bar(width = 1) + \n",
        "  coord_polar(theta = \"y\") + \n",
        "  labs(title = \"species Distribution\")"
      ],
      "metadata": {
        "colab": {
          "base_uri": "https://localhost:8080/",
          "height": 437
        },
        "id": "fHpd6Lq6ZLV8",
        "outputId": "20d07592-03df-40ef-f831-a06a9cfabbb7"
      },
      "execution_count": 169,
      "outputs": [
        {
          "output_type": "display_data",
          "data": {
            "text/plain": [
              "plot without title"
            ],
            "image/png": "[encoded data removed]"
          },
          "metadata": {
            "image/png": {
              "width": 420,
              "height": 420
            }
          }
        }
      ]
    },
    {
      "cell_type": "code",
      "source": [
        "ggplot(df, aes(x = species, y = height, fill = species)) + \n",
        "  geom_boxplot()+ labs(title = \"species & height\")"
      ],
      "metadata": {
        "colab": {
          "base_uri": "https://localhost:8080/",
          "height": 437
        },
        "id": "XN3iOYhnZ85-",
        "outputId": "18eb2f97-fb09-4f0c-bec3-b6bc4bb0c1c0"
      },
      "execution_count": 176,
      "outputs": [
        {
          "output_type": "display_data",
          "data": {
            "text/plain": [
              "plot without title"
            ],
            "image/png": "[encoded data removed]"
          },
          "metadata": {
            "image/png": {
              "width": 420,
              "height": 420
            }
          }
        }
      ]
    },
    {
      "cell_type": "code",
      "source": [
        "ggplot(df, aes(x = height, y = leafarea)) +\n",
        "  geom_point()"
      ],
      "metadata": {
        "colab": {
          "base_uri": "https://localhost:8080/",
          "height": 437
        },
        "id": "DReVjozSaj_8",
        "outputId": "cb392ccc-a64d-46ee-f256-5aacb2a0623e"
      },
      "execution_count": 182,
      "outputs": [
        {
          "output_type": "display_data",
          "data": {
            "text/plain": [
              "plot without title"
            ],
            "image/png": "[encoded data removed]"
          },
          "metadata": {
            "image/png": {
              "width": 420,
              "height": 420
            }
          }
        }
      ]
    },
    {
      "cell_type": "code",
      "source": [
        "ggplot(df, aes(x = height, y = branchmass)) +\n",
        "  geom_point()"
      ],
      "metadata": {
        "colab": {
          "base_uri": "https://localhost:8080/",
          "height": 437
        },
        "id": "RnjG67t4cD8u",
        "outputId": "ad7c9ad8-22ef-46c1-de71-8362a170a5a3"
      },
      "execution_count": 185,
      "outputs": [
        {
          "output_type": "display_data",
          "data": {
            "text/plain": [
              "plot without title"
            ],
            "image/png": "[encoded data removed]"
          },
          "metadata": {
            "image/png": {
              "width": 420,
              "height": 420
            }
          }
        }
      ]
    },
    {
      "cell_type": "code",
      "source": [],
      "metadata": {
        "id": "61v-6hxLcZ2M"
      },
      "execution_count": null,
      "outputs": []
    }
  ]
}